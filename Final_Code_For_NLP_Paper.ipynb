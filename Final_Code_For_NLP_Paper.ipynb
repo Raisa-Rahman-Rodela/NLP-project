{
  "nbformat": 4,
  "nbformat_minor": 0,
  "metadata": {
    "colab": {
      "provenance": [],
      "include_colab_link": true
    },
    "kernelspec": {
      "name": "python3",
      "display_name": "Python 3"
    },
    "language_info": {
      "name": "python"
    }
  },
  "cells": [
    {
      "cell_type": "markdown",
      "metadata": {
        "id": "view-in-github",
        "colab_type": "text"
      },
      "source": [
        "<a href=\"https://colab.research.google.com/github/Raisa-Rahman-Rodela/NLP-project/blob/main/Final_Code_For_NLP_Paper.ipynb\" target=\"_parent\"><img src=\"https://colab.research.google.com/assets/colab-badge.svg\" alt=\"Open In Colab\"/></a>"
      ]
    },
    {
      "cell_type": "code",
      "execution_count": null,
      "metadata": {
        "id": "ZI5v1bJgYoP1"
      },
      "outputs": [],
      "source": [
        "import pandas as pd\n",
        "import numpy as np\n",
        "import torch\n",
        "import re\n",
        "import gc\n"
      ]
    },
    {
      "cell_type": "code",
      "source": [
        "from google.colab import drive\n",
        "drive.mount('/content/drive')"
      ],
      "metadata": {
        "colab": {
          "base_uri": "https://localhost:8080/"
        },
        "id": "SEhmUwn9Ysmg",
        "outputId": "be238636-aaba-478c-8e14-3a29ca0e87b2"
      },
      "execution_count": null,
      "outputs": [
        {
          "output_type": "stream",
          "name": "stdout",
          "text": [
            "Mounted at /content/drive\n"
          ]
        }
      ]
    },
    {
      "cell_type": "code",
      "source": [
        "df = pd.read_csv(filepath_or_buffer=\"/content/drive/MyDrive/431/2/train.csv\")\n",
        "df.head()"
      ],
      "metadata": {
        "colab": {
          "base_uri": "https://localhost:8080/",
          "height": 206
        },
        "id": "SJh-zg-rYvcH",
        "outputId": "4d62898c-d687-4677-b740-a5b824580901"
      },
      "execution_count": null,
      "outputs": [
        {
          "output_type": "execute_result",
          "data": {
            "text/plain": [
              "   id                                           comments  label\n",
              "0   1                         .... ঐ ইন্দুর তোই মরছ নাই?      1\n",
              "1   2  #গেবনের শেষে আইসা আপনার মুখোশ টা খুলছে এতেই আম...      1\n",
              "2   3        ✈✈✈✈��� মুরগি চোরের পাছায় ডুকবি আর মারবি।।।      1\n",
              "3   4  ১৮ কোটির চোদা খাওয়া শেষে এখন ১৫০কোটির চোদা খাব...      1\n",
              "4   5                      ২য় মীর জাফরের মুখে মুতে দে...      1"
            ],
            "text/html": [
              "\n",
              "  <div id=\"df-722dc46c-850d-443c-bd96-abecd1258d3c\">\n",
              "    <div class=\"colab-df-container\">\n",
              "      <div>\n",
              "<style scoped>\n",
              "    .dataframe tbody tr th:only-of-type {\n",
              "        vertical-align: middle;\n",
              "    }\n",
              "\n",
              "    .dataframe tbody tr th {\n",
              "        vertical-align: top;\n",
              "    }\n",
              "\n",
              "    .dataframe thead th {\n",
              "        text-align: right;\n",
              "    }\n",
              "</style>\n",
              "<table border=\"1\" class=\"dataframe\">\n",
              "  <thead>\n",
              "    <tr style=\"text-align: right;\">\n",
              "      <th></th>\n",
              "      <th>id</th>\n",
              "      <th>comments</th>\n",
              "      <th>label</th>\n",
              "    </tr>\n",
              "  </thead>\n",
              "  <tbody>\n",
              "    <tr>\n",
              "      <th>0</th>\n",
              "      <td>1</td>\n",
              "      <td>.... ঐ ইন্দুর তোই মরছ নাই?</td>\n",
              "      <td>1</td>\n",
              "    </tr>\n",
              "    <tr>\n",
              "      <th>1</th>\n",
              "      <td>2</td>\n",
              "      <td>#গেবনের শেষে আইসা আপনার মুখোশ টা খুলছে এতেই আম...</td>\n",
              "      <td>1</td>\n",
              "    </tr>\n",
              "    <tr>\n",
              "      <th>2</th>\n",
              "      <td>3</td>\n",
              "      <td>✈✈✈✈��� মুরগি চোরের পাছায় ডুকবি আর মারবি।।।</td>\n",
              "      <td>1</td>\n",
              "    </tr>\n",
              "    <tr>\n",
              "      <th>3</th>\n",
              "      <td>4</td>\n",
              "      <td>১৮ কোটির চোদা খাওয়া শেষে এখন ১৫০কোটির চোদা খাব...</td>\n",
              "      <td>1</td>\n",
              "    </tr>\n",
              "    <tr>\n",
              "      <th>4</th>\n",
              "      <td>5</td>\n",
              "      <td>২য় মীর জাফরের মুখে মুতে দে...</td>\n",
              "      <td>1</td>\n",
              "    </tr>\n",
              "  </tbody>\n",
              "</table>\n",
              "</div>\n",
              "      <button class=\"colab-df-convert\" onclick=\"convertToInteractive('df-722dc46c-850d-443c-bd96-abecd1258d3c')\"\n",
              "              title=\"Convert this dataframe to an interactive table.\"\n",
              "              style=\"display:none;\">\n",
              "        \n",
              "  <svg xmlns=\"http://www.w3.org/2000/svg\" height=\"24px\"viewBox=\"0 0 24 24\"\n",
              "       width=\"24px\">\n",
              "    <path d=\"M0 0h24v24H0V0z\" fill=\"none\"/>\n",
              "    <path d=\"M18.56 5.44l.94 2.06.94-2.06 2.06-.94-2.06-.94-.94-2.06-.94 2.06-2.06.94zm-11 1L8.5 8.5l.94-2.06 2.06-.94-2.06-.94L8.5 2.5l-.94 2.06-2.06.94zm10 10l.94 2.06.94-2.06 2.06-.94-2.06-.94-.94-2.06-.94 2.06-2.06.94z\"/><path d=\"M17.41 7.96l-1.37-1.37c-.4-.4-.92-.59-1.43-.59-.52 0-1.04.2-1.43.59L10.3 9.45l-7.72 7.72c-.78.78-.78 2.05 0 2.83L4 21.41c.39.39.9.59 1.41.59.51 0 1.02-.2 1.41-.59l7.78-7.78 2.81-2.81c.8-.78.8-2.07 0-2.86zM5.41 20L4 18.59l7.72-7.72 1.47 1.35L5.41 20z\"/>\n",
              "  </svg>\n",
              "      </button>\n",
              "      \n",
              "  <style>\n",
              "    .colab-df-container {\n",
              "      display:flex;\n",
              "      flex-wrap:wrap;\n",
              "      gap: 12px;\n",
              "    }\n",
              "\n",
              "    .colab-df-convert {\n",
              "      background-color: #E8F0FE;\n",
              "      border: none;\n",
              "      border-radius: 50%;\n",
              "      cursor: pointer;\n",
              "      display: none;\n",
              "      fill: #1967D2;\n",
              "      height: 32px;\n",
              "      padding: 0 0 0 0;\n",
              "      width: 32px;\n",
              "    }\n",
              "\n",
              "    .colab-df-convert:hover {\n",
              "      background-color: #E2EBFA;\n",
              "      box-shadow: 0px 1px 2px rgba(60, 64, 67, 0.3), 0px 1px 3px 1px rgba(60, 64, 67, 0.15);\n",
              "      fill: #174EA6;\n",
              "    }\n",
              "\n",
              "    [theme=dark] .colab-df-convert {\n",
              "      background-color: #3B4455;\n",
              "      fill: #D2E3FC;\n",
              "    }\n",
              "\n",
              "    [theme=dark] .colab-df-convert:hover {\n",
              "      background-color: #434B5C;\n",
              "      box-shadow: 0px 1px 3px 1px rgba(0, 0, 0, 0.15);\n",
              "      filter: drop-shadow(0px 1px 2px rgba(0, 0, 0, 0.3));\n",
              "      fill: #FFFFFF;\n",
              "    }\n",
              "  </style>\n",
              "\n",
              "      <script>\n",
              "        const buttonEl =\n",
              "          document.querySelector('#df-722dc46c-850d-443c-bd96-abecd1258d3c button.colab-df-convert');\n",
              "        buttonEl.style.display =\n",
              "          google.colab.kernel.accessAllowed ? 'block' : 'none';\n",
              "\n",
              "        async function convertToInteractive(key) {\n",
              "          const element = document.querySelector('#df-722dc46c-850d-443c-bd96-abecd1258d3c');\n",
              "          const dataTable =\n",
              "            await google.colab.kernel.invokeFunction('convertToInteractive',\n",
              "                                                     [key], {});\n",
              "          if (!dataTable) return;\n",
              "\n",
              "          const docLinkHtml = 'Like what you see? Visit the ' +\n",
              "            '<a target=\"_blank\" href=https://colab.research.google.com/notebooks/data_table.ipynb>data table notebook</a>'\n",
              "            + ' to learn more about interactive tables.';\n",
              "          element.innerHTML = '';\n",
              "          dataTable['output_type'] = 'display_data';\n",
              "          await google.colab.output.renderOutput(dataTable, element);\n",
              "          const docLink = document.createElement('div');\n",
              "          docLink.innerHTML = docLinkHtml;\n",
              "          element.appendChild(docLink);\n",
              "        }\n",
              "      </script>\n",
              "    </div>\n",
              "  </div>\n",
              "  "
            ]
          },
          "metadata": {},
          "execution_count": 3
        }
      ]
    },
    {
      "cell_type": "code",
      "source": [
        "hate_comment = df[df.label == 1]\n",
        "hate_comment.head()"
      ],
      "metadata": {
        "colab": {
          "base_uri": "https://localhost:8080/",
          "height": 206
        },
        "id": "AqPJE6JUeo6e",
        "outputId": "95f42c6b-5a7b-4173-81a1-2f640d19b26c"
      },
      "execution_count": null,
      "outputs": [
        {
          "output_type": "execute_result",
          "data": {
            "text/plain": [
              "   id                                           comments  label\n",
              "0   1                         .... ঐ ইন্দুর তোই মরছ নাই?      1\n",
              "1   2  #গেবনের শেষে আইসা আপনার মুখোশ টা খুলছে এতেই আম...      1\n",
              "2   3        ✈✈✈✈��� মুরগি চোরের পাছায় ডুকবি আর মারবি।।।      1\n",
              "3   4  ১৮ কোটির চোদা খাওয়া শেষে এখন ১৫০কোটির চোদা খাব...      1\n",
              "4   5                      ২য় মীর জাফরের মুখে মুতে দে...      1"
            ],
            "text/html": [
              "\n",
              "  <div id=\"df-cfcdfaad-6882-4b8b-b545-8366087b6394\">\n",
              "    <div class=\"colab-df-container\">\n",
              "      <div>\n",
              "<style scoped>\n",
              "    .dataframe tbody tr th:only-of-type {\n",
              "        vertical-align: middle;\n",
              "    }\n",
              "\n",
              "    .dataframe tbody tr th {\n",
              "        vertical-align: top;\n",
              "    }\n",
              "\n",
              "    .dataframe thead th {\n",
              "        text-align: right;\n",
              "    }\n",
              "</style>\n",
              "<table border=\"1\" class=\"dataframe\">\n",
              "  <thead>\n",
              "    <tr style=\"text-align: right;\">\n",
              "      <th></th>\n",
              "      <th>id</th>\n",
              "      <th>comments</th>\n",
              "      <th>label</th>\n",
              "    </tr>\n",
              "  </thead>\n",
              "  <tbody>\n",
              "    <tr>\n",
              "      <th>0</th>\n",
              "      <td>1</td>\n",
              "      <td>.... ঐ ইন্দুর তোই মরছ নাই?</td>\n",
              "      <td>1</td>\n",
              "    </tr>\n",
              "    <tr>\n",
              "      <th>1</th>\n",
              "      <td>2</td>\n",
              "      <td>#গেবনের শেষে আইসা আপনার মুখোশ টা খুলছে এতেই আম...</td>\n",
              "      <td>1</td>\n",
              "    </tr>\n",
              "    <tr>\n",
              "      <th>2</th>\n",
              "      <td>3</td>\n",
              "      <td>✈✈✈✈��� মুরগি চোরের পাছায় ডুকবি আর মারবি।।।</td>\n",
              "      <td>1</td>\n",
              "    </tr>\n",
              "    <tr>\n",
              "      <th>3</th>\n",
              "      <td>4</td>\n",
              "      <td>১৮ কোটির চোদা খাওয়া শেষে এখন ১৫০কোটির চোদা খাব...</td>\n",
              "      <td>1</td>\n",
              "    </tr>\n",
              "    <tr>\n",
              "      <th>4</th>\n",
              "      <td>5</td>\n",
              "      <td>২য় মীর জাফরের মুখে মুতে দে...</td>\n",
              "      <td>1</td>\n",
              "    </tr>\n",
              "  </tbody>\n",
              "</table>\n",
              "</div>\n",
              "      <button class=\"colab-df-convert\" onclick=\"convertToInteractive('df-cfcdfaad-6882-4b8b-b545-8366087b6394')\"\n",
              "              title=\"Convert this dataframe to an interactive table.\"\n",
              "              style=\"display:none;\">\n",
              "        \n",
              "  <svg xmlns=\"http://www.w3.org/2000/svg\" height=\"24px\"viewBox=\"0 0 24 24\"\n",
              "       width=\"24px\">\n",
              "    <path d=\"M0 0h24v24H0V0z\" fill=\"none\"/>\n",
              "    <path d=\"M18.56 5.44l.94 2.06.94-2.06 2.06-.94-2.06-.94-.94-2.06-.94 2.06-2.06.94zm-11 1L8.5 8.5l.94-2.06 2.06-.94-2.06-.94L8.5 2.5l-.94 2.06-2.06.94zm10 10l.94 2.06.94-2.06 2.06-.94-2.06-.94-.94-2.06-.94 2.06-2.06.94z\"/><path d=\"M17.41 7.96l-1.37-1.37c-.4-.4-.92-.59-1.43-.59-.52 0-1.04.2-1.43.59L10.3 9.45l-7.72 7.72c-.78.78-.78 2.05 0 2.83L4 21.41c.39.39.9.59 1.41.59.51 0 1.02-.2 1.41-.59l7.78-7.78 2.81-2.81c.8-.78.8-2.07 0-2.86zM5.41 20L4 18.59l7.72-7.72 1.47 1.35L5.41 20z\"/>\n",
              "  </svg>\n",
              "      </button>\n",
              "      \n",
              "  <style>\n",
              "    .colab-df-container {\n",
              "      display:flex;\n",
              "      flex-wrap:wrap;\n",
              "      gap: 12px;\n",
              "    }\n",
              "\n",
              "    .colab-df-convert {\n",
              "      background-color: #E8F0FE;\n",
              "      border: none;\n",
              "      border-radius: 50%;\n",
              "      cursor: pointer;\n",
              "      display: none;\n",
              "      fill: #1967D2;\n",
              "      height: 32px;\n",
              "      padding: 0 0 0 0;\n",
              "      width: 32px;\n",
              "    }\n",
              "\n",
              "    .colab-df-convert:hover {\n",
              "      background-color: #E2EBFA;\n",
              "      box-shadow: 0px 1px 2px rgba(60, 64, 67, 0.3), 0px 1px 3px 1px rgba(60, 64, 67, 0.15);\n",
              "      fill: #174EA6;\n",
              "    }\n",
              "\n",
              "    [theme=dark] .colab-df-convert {\n",
              "      background-color: #3B4455;\n",
              "      fill: #D2E3FC;\n",
              "    }\n",
              "\n",
              "    [theme=dark] .colab-df-convert:hover {\n",
              "      background-color: #434B5C;\n",
              "      box-shadow: 0px 1px 3px 1px rgba(0, 0, 0, 0.15);\n",
              "      filter: drop-shadow(0px 1px 2px rgba(0, 0, 0, 0.3));\n",
              "      fill: #FFFFFF;\n",
              "    }\n",
              "  </style>\n",
              "\n",
              "      <script>\n",
              "        const buttonEl =\n",
              "          document.querySelector('#df-cfcdfaad-6882-4b8b-b545-8366087b6394 button.colab-df-convert');\n",
              "        buttonEl.style.display =\n",
              "          google.colab.kernel.accessAllowed ? 'block' : 'none';\n",
              "\n",
              "        async function convertToInteractive(key) {\n",
              "          const element = document.querySelector('#df-cfcdfaad-6882-4b8b-b545-8366087b6394');\n",
              "          const dataTable =\n",
              "            await google.colab.kernel.invokeFunction('convertToInteractive',\n",
              "                                                     [key], {});\n",
              "          if (!dataTable) return;\n",
              "\n",
              "          const docLinkHtml = 'Like what you see? Visit the ' +\n",
              "            '<a target=\"_blank\" href=https://colab.research.google.com/notebooks/data_table.ipynb>data table notebook</a>'\n",
              "            + ' to learn more about interactive tables.';\n",
              "          element.innerHTML = '';\n",
              "          dataTable['output_type'] = 'display_data';\n",
              "          await google.colab.output.renderOutput(dataTable, element);\n",
              "          const docLink = document.createElement('div');\n",
              "          docLink.innerHTML = docLinkHtml;\n",
              "          element.appendChild(docLink);\n",
              "        }\n",
              "      </script>\n",
              "    </div>\n",
              "  </div>\n",
              "  "
            ]
          },
          "metadata": {},
          "execution_count": 4
        }
      ]
    },
    {
      "cell_type": "code",
      "source": [
        "normal_tweet = df[df.label == 0]\n",
        "normal_tweet.head()"
      ],
      "metadata": {
        "colab": {
          "base_uri": "https://localhost:8080/",
          "height": 206
        },
        "id": "XC3QqrFJgPwM",
        "outputId": "20f76c4f-eaa4-4d95-9fc2-5f761ebcd7bf"
      },
      "execution_count": null,
      "outputs": [
        {
          "output_type": "execute_result",
          "data": {
            "text/plain": [
              "          id                                           comments  label\n",
              "19324  19325  ঃ ভাইয়া হাসতে হাসতে আমার পেটে ব্যথা হয়ে গেছে। ...      0\n",
              "19325  19326  ঃ রিফাত বিশ্বাস লোকটা কে?শুনছিলাম শুধু রিফাত।এ...      0\n",
              "19326  19327  :: খালেদা জিয়ার ৩৯ তম জন্মদিন ! ১৯৭৫ সালের ১৫ ...      0\n",
              "19327  19328       ! মজা পাইলাম।। শেখ হাসিনার পা চাটা গোলাম।।��      0\n",
              "19328  19329  ? ? এর সময় দেখেন যখন কুপানো শেষ তখন তার তার দি...      0"
            ],
            "text/html": [
              "\n",
              "  <div id=\"df-c7d0000d-7fe0-45c2-ba99-80b10d4eb3c1\">\n",
              "    <div class=\"colab-df-container\">\n",
              "      <div>\n",
              "<style scoped>\n",
              "    .dataframe tbody tr th:only-of-type {\n",
              "        vertical-align: middle;\n",
              "    }\n",
              "\n",
              "    .dataframe tbody tr th {\n",
              "        vertical-align: top;\n",
              "    }\n",
              "\n",
              "    .dataframe thead th {\n",
              "        text-align: right;\n",
              "    }\n",
              "</style>\n",
              "<table border=\"1\" class=\"dataframe\">\n",
              "  <thead>\n",
              "    <tr style=\"text-align: right;\">\n",
              "      <th></th>\n",
              "      <th>id</th>\n",
              "      <th>comments</th>\n",
              "      <th>label</th>\n",
              "    </tr>\n",
              "  </thead>\n",
              "  <tbody>\n",
              "    <tr>\n",
              "      <th>19324</th>\n",
              "      <td>19325</td>\n",
              "      <td>ঃ ভাইয়া হাসতে হাসতে আমার পেটে ব্যথা হয়ে গেছে। ...</td>\n",
              "      <td>0</td>\n",
              "    </tr>\n",
              "    <tr>\n",
              "      <th>19325</th>\n",
              "      <td>19326</td>\n",
              "      <td>ঃ রিফাত বিশ্বাস লোকটা কে?শুনছিলাম শুধু রিফাত।এ...</td>\n",
              "      <td>0</td>\n",
              "    </tr>\n",
              "    <tr>\n",
              "      <th>19326</th>\n",
              "      <td>19327</td>\n",
              "      <td>:: খালেদা জিয়ার ৩৯ তম জন্মদিন ! ১৯৭৫ সালের ১৫ ...</td>\n",
              "      <td>0</td>\n",
              "    </tr>\n",
              "    <tr>\n",
              "      <th>19327</th>\n",
              "      <td>19328</td>\n",
              "      <td>! মজা পাইলাম।। শেখ হাসিনার পা চাটা গোলাম।।��</td>\n",
              "      <td>0</td>\n",
              "    </tr>\n",
              "    <tr>\n",
              "      <th>19328</th>\n",
              "      <td>19329</td>\n",
              "      <td>? ? এর সময় দেখেন যখন কুপানো শেষ তখন তার তার দি...</td>\n",
              "      <td>0</td>\n",
              "    </tr>\n",
              "  </tbody>\n",
              "</table>\n",
              "</div>\n",
              "      <button class=\"colab-df-convert\" onclick=\"convertToInteractive('df-c7d0000d-7fe0-45c2-ba99-80b10d4eb3c1')\"\n",
              "              title=\"Convert this dataframe to an interactive table.\"\n",
              "              style=\"display:none;\">\n",
              "        \n",
              "  <svg xmlns=\"http://www.w3.org/2000/svg\" height=\"24px\"viewBox=\"0 0 24 24\"\n",
              "       width=\"24px\">\n",
              "    <path d=\"M0 0h24v24H0V0z\" fill=\"none\"/>\n",
              "    <path d=\"M18.56 5.44l.94 2.06.94-2.06 2.06-.94-2.06-.94-.94-2.06-.94 2.06-2.06.94zm-11 1L8.5 8.5l.94-2.06 2.06-.94-2.06-.94L8.5 2.5l-.94 2.06-2.06.94zm10 10l.94 2.06.94-2.06 2.06-.94-2.06-.94-.94-2.06-.94 2.06-2.06.94z\"/><path d=\"M17.41 7.96l-1.37-1.37c-.4-.4-.92-.59-1.43-.59-.52 0-1.04.2-1.43.59L10.3 9.45l-7.72 7.72c-.78.78-.78 2.05 0 2.83L4 21.41c.39.39.9.59 1.41.59.51 0 1.02-.2 1.41-.59l7.78-7.78 2.81-2.81c.8-.78.8-2.07 0-2.86zM5.41 20L4 18.59l7.72-7.72 1.47 1.35L5.41 20z\"/>\n",
              "  </svg>\n",
              "      </button>\n",
              "      \n",
              "  <style>\n",
              "    .colab-df-container {\n",
              "      display:flex;\n",
              "      flex-wrap:wrap;\n",
              "      gap: 12px;\n",
              "    }\n",
              "\n",
              "    .colab-df-convert {\n",
              "      background-color: #E8F0FE;\n",
              "      border: none;\n",
              "      border-radius: 50%;\n",
              "      cursor: pointer;\n",
              "      display: none;\n",
              "      fill: #1967D2;\n",
              "      height: 32px;\n",
              "      padding: 0 0 0 0;\n",
              "      width: 32px;\n",
              "    }\n",
              "\n",
              "    .colab-df-convert:hover {\n",
              "      background-color: #E2EBFA;\n",
              "      box-shadow: 0px 1px 2px rgba(60, 64, 67, 0.3), 0px 1px 3px 1px rgba(60, 64, 67, 0.15);\n",
              "      fill: #174EA6;\n",
              "    }\n",
              "\n",
              "    [theme=dark] .colab-df-convert {\n",
              "      background-color: #3B4455;\n",
              "      fill: #D2E3FC;\n",
              "    }\n",
              "\n",
              "    [theme=dark] .colab-df-convert:hover {\n",
              "      background-color: #434B5C;\n",
              "      box-shadow: 0px 1px 3px 1px rgba(0, 0, 0, 0.15);\n",
              "      filter: drop-shadow(0px 1px 2px rgba(0, 0, 0, 0.3));\n",
              "      fill: #FFFFFF;\n",
              "    }\n",
              "  </style>\n",
              "\n",
              "      <script>\n",
              "        const buttonEl =\n",
              "          document.querySelector('#df-c7d0000d-7fe0-45c2-ba99-80b10d4eb3c1 button.colab-df-convert');\n",
              "        buttonEl.style.display =\n",
              "          google.colab.kernel.accessAllowed ? 'block' : 'none';\n",
              "\n",
              "        async function convertToInteractive(key) {\n",
              "          const element = document.querySelector('#df-c7d0000d-7fe0-45c2-ba99-80b10d4eb3c1');\n",
              "          const dataTable =\n",
              "            await google.colab.kernel.invokeFunction('convertToInteractive',\n",
              "                                                     [key], {});\n",
              "          if (!dataTable) return;\n",
              "\n",
              "          const docLinkHtml = 'Like what you see? Visit the ' +\n",
              "            '<a target=\"_blank\" href=https://colab.research.google.com/notebooks/data_table.ipynb>data table notebook</a>'\n",
              "            + ' to learn more about interactive tables.';\n",
              "          element.innerHTML = '';\n",
              "          dataTable['output_type'] = 'display_data';\n",
              "          await google.colab.output.renderOutput(dataTable, element);\n",
              "          const docLink = document.createElement('div');\n",
              "          docLink.innerHTML = docLinkHtml;\n",
              "          element.appendChild(docLink);\n",
              "        }\n",
              "      </script>\n",
              "    </div>\n",
              "  </div>\n",
              "  "
            ]
          },
          "metadata": {},
          "execution_count": 5
        }
      ]
    },
    {
      "cell_type": "code",
      "source": [
        "import warnings\n",
        "warnings.filterwarnings('ignore')\n",
        "import pandas as pd\n",
        "import numpy as np\n",
        "import matplotlib.pyplot as plt\n",
        "import seaborn as sns\n",
        "from sklearn.model_selection import train_test_split, GridSearchCV\n",
        "from sklearn.metrics import confusion_matrix,f1_score\n",
        "from sklearn.naive_bayes import MultinomialNB\n",
        "from sklearn.ensemble import RandomForestClassifier\n",
        "from sklearn.metrics import accuracy_score, confusion_matrix, classification_report\n",
        "import re"
      ],
      "metadata": {
        "id": "wiKJz0Bagmf2"
      },
      "execution_count": null,
      "outputs": []
    },
    {
      "cell_type": "code",
      "source": [
        "#distributions\n",
        "df_Stat=df[['label','comments']].groupby('label').count().reset_index()\n",
        "df_Stat.columns=['label','count']\n",
        "df_Stat['percentage']=(df_Stat['count']/df_Stat['count'].sum())*100\n",
        "df_Stat"
      ],
      "metadata": {
        "colab": {
          "base_uri": "https://localhost:8080/",
          "height": 112
        },
        "id": "5GZsvvYjgrZG",
        "outputId": "385d9b8c-175d-4334-deb9-b8d67a4eaeed"
      },
      "execution_count": null,
      "outputs": [
        {
          "output_type": "execute_result",
          "data": {
            "text/plain": [
              "   label  count  percentage\n",
              "0      0  20900   51.959029\n",
              "1      1  19324   48.040971"
            ],
            "text/html": [
              "\n",
              "  <div id=\"df-243e645a-320c-48d2-a753-da6126f6f8dd\">\n",
              "    <div class=\"colab-df-container\">\n",
              "      <div>\n",
              "<style scoped>\n",
              "    .dataframe tbody tr th:only-of-type {\n",
              "        vertical-align: middle;\n",
              "    }\n",
              "\n",
              "    .dataframe tbody tr th {\n",
              "        vertical-align: top;\n",
              "    }\n",
              "\n",
              "    .dataframe thead th {\n",
              "        text-align: right;\n",
              "    }\n",
              "</style>\n",
              "<table border=\"1\" class=\"dataframe\">\n",
              "  <thead>\n",
              "    <tr style=\"text-align: right;\">\n",
              "      <th></th>\n",
              "      <th>label</th>\n",
              "      <th>count</th>\n",
              "      <th>percentage</th>\n",
              "    </tr>\n",
              "  </thead>\n",
              "  <tbody>\n",
              "    <tr>\n",
              "      <th>0</th>\n",
              "      <td>0</td>\n",
              "      <td>20900</td>\n",
              "      <td>51.959029</td>\n",
              "    </tr>\n",
              "    <tr>\n",
              "      <th>1</th>\n",
              "      <td>1</td>\n",
              "      <td>19324</td>\n",
              "      <td>48.040971</td>\n",
              "    </tr>\n",
              "  </tbody>\n",
              "</table>\n",
              "</div>\n",
              "      <button class=\"colab-df-convert\" onclick=\"convertToInteractive('df-243e645a-320c-48d2-a753-da6126f6f8dd')\"\n",
              "              title=\"Convert this dataframe to an interactive table.\"\n",
              "              style=\"display:none;\">\n",
              "        \n",
              "  <svg xmlns=\"http://www.w3.org/2000/svg\" height=\"24px\"viewBox=\"0 0 24 24\"\n",
              "       width=\"24px\">\n",
              "    <path d=\"M0 0h24v24H0V0z\" fill=\"none\"/>\n",
              "    <path d=\"M18.56 5.44l.94 2.06.94-2.06 2.06-.94-2.06-.94-.94-2.06-.94 2.06-2.06.94zm-11 1L8.5 8.5l.94-2.06 2.06-.94-2.06-.94L8.5 2.5l-.94 2.06-2.06.94zm10 10l.94 2.06.94-2.06 2.06-.94-2.06-.94-.94-2.06-.94 2.06-2.06.94z\"/><path d=\"M17.41 7.96l-1.37-1.37c-.4-.4-.92-.59-1.43-.59-.52 0-1.04.2-1.43.59L10.3 9.45l-7.72 7.72c-.78.78-.78 2.05 0 2.83L4 21.41c.39.39.9.59 1.41.59.51 0 1.02-.2 1.41-.59l7.78-7.78 2.81-2.81c.8-.78.8-2.07 0-2.86zM5.41 20L4 18.59l7.72-7.72 1.47 1.35L5.41 20z\"/>\n",
              "  </svg>\n",
              "      </button>\n",
              "      \n",
              "  <style>\n",
              "    .colab-df-container {\n",
              "      display:flex;\n",
              "      flex-wrap:wrap;\n",
              "      gap: 12px;\n",
              "    }\n",
              "\n",
              "    .colab-df-convert {\n",
              "      background-color: #E8F0FE;\n",
              "      border: none;\n",
              "      border-radius: 50%;\n",
              "      cursor: pointer;\n",
              "      display: none;\n",
              "      fill: #1967D2;\n",
              "      height: 32px;\n",
              "      padding: 0 0 0 0;\n",
              "      width: 32px;\n",
              "    }\n",
              "\n",
              "    .colab-df-convert:hover {\n",
              "      background-color: #E2EBFA;\n",
              "      box-shadow: 0px 1px 2px rgba(60, 64, 67, 0.3), 0px 1px 3px 1px rgba(60, 64, 67, 0.15);\n",
              "      fill: #174EA6;\n",
              "    }\n",
              "\n",
              "    [theme=dark] .colab-df-convert {\n",
              "      background-color: #3B4455;\n",
              "      fill: #D2E3FC;\n",
              "    }\n",
              "\n",
              "    [theme=dark] .colab-df-convert:hover {\n",
              "      background-color: #434B5C;\n",
              "      box-shadow: 0px 1px 3px 1px rgba(0, 0, 0, 0.15);\n",
              "      filter: drop-shadow(0px 1px 2px rgba(0, 0, 0, 0.3));\n",
              "      fill: #FFFFFF;\n",
              "    }\n",
              "  </style>\n",
              "\n",
              "      <script>\n",
              "        const buttonEl =\n",
              "          document.querySelector('#df-243e645a-320c-48d2-a753-da6126f6f8dd button.colab-df-convert');\n",
              "        buttonEl.style.display =\n",
              "          google.colab.kernel.accessAllowed ? 'block' : 'none';\n",
              "\n",
              "        async function convertToInteractive(key) {\n",
              "          const element = document.querySelector('#df-243e645a-320c-48d2-a753-da6126f6f8dd');\n",
              "          const dataTable =\n",
              "            await google.colab.kernel.invokeFunction('convertToInteractive',\n",
              "                                                     [key], {});\n",
              "          if (!dataTable) return;\n",
              "\n",
              "          const docLinkHtml = 'Like what you see? Visit the ' +\n",
              "            '<a target=\"_blank\" href=https://colab.research.google.com/notebooks/data_table.ipynb>data table notebook</a>'\n",
              "            + ' to learn more about interactive tables.';\n",
              "          element.innerHTML = '';\n",
              "          dataTable['output_type'] = 'display_data';\n",
              "          await google.colab.output.renderOutput(dataTable, element);\n",
              "          const docLink = document.createElement('div');\n",
              "          docLink.innerHTML = docLinkHtml;\n",
              "          element.appendChild(docLink);\n",
              "        }\n",
              "      </script>\n",
              "    </div>\n",
              "  </div>\n",
              "  "
            ]
          },
          "metadata": {},
          "execution_count": 7
        }
      ]
    },
    {
      "cell_type": "code",
      "source": [
        "def process_commnets(comment):\n",
        "    return \" \".join(re.sub(\"(@[A-Za-z0-9]+)|([^0-9A-Za-z \\t])\", \" \",comment.lower()).split())"
      ],
      "metadata": {
        "id": "zivo7UrHhLLA"
      },
      "execution_count": null,
      "outputs": []
    },
    {
      "cell_type": "code",
      "source": [
        "df['processed_comments'] = df['comments'].apply(process_commnets)\n",
        "df.head()"
      ],
      "metadata": {
        "colab": {
          "base_uri": "https://localhost:8080/",
          "height": 206
        },
        "id": "FDGJYvqohREW",
        "outputId": "2c483353-581a-41af-aa20-1364fa8cd6ce"
      },
      "execution_count": null,
      "outputs": [
        {
          "output_type": "execute_result",
          "data": {
            "text/plain": [
              "   id                                           comments  label  \\\n",
              "0   1                         .... ঐ ইন্দুর তোই মরছ নাই?      1   \n",
              "1   2  #গেবনের শেষে আইসা আপনার মুখোশ টা খুলছে এতেই আম...      1   \n",
              "2   3        ✈✈✈✈��� মুরগি চোরের পাছায় ডুকবি আর মারবি।।।      1   \n",
              "3   4  ১৮ কোটির চোদা খাওয়া শেষে এখন ১৫০কোটির চোদা খাব...      1   \n",
              "4   5                      ২য় মীর জাফরের মুখে মুতে দে...      1   \n",
              "\n",
              "  processed_comments  \n",
              "0                     \n",
              "1                     \n",
              "2                     \n",
              "3                     \n",
              "4                     "
            ],
            "text/html": [
              "\n",
              "  <div id=\"df-6f355ba6-966e-491b-8729-fc05941f4eec\">\n",
              "    <div class=\"colab-df-container\">\n",
              "      <div>\n",
              "<style scoped>\n",
              "    .dataframe tbody tr th:only-of-type {\n",
              "        vertical-align: middle;\n",
              "    }\n",
              "\n",
              "    .dataframe tbody tr th {\n",
              "        vertical-align: top;\n",
              "    }\n",
              "\n",
              "    .dataframe thead th {\n",
              "        text-align: right;\n",
              "    }\n",
              "</style>\n",
              "<table border=\"1\" class=\"dataframe\">\n",
              "  <thead>\n",
              "    <tr style=\"text-align: right;\">\n",
              "      <th></th>\n",
              "      <th>id</th>\n",
              "      <th>comments</th>\n",
              "      <th>label</th>\n",
              "      <th>processed_comments</th>\n",
              "    </tr>\n",
              "  </thead>\n",
              "  <tbody>\n",
              "    <tr>\n",
              "      <th>0</th>\n",
              "      <td>1</td>\n",
              "      <td>.... ঐ ইন্দুর তোই মরছ নাই?</td>\n",
              "      <td>1</td>\n",
              "      <td></td>\n",
              "    </tr>\n",
              "    <tr>\n",
              "      <th>1</th>\n",
              "      <td>2</td>\n",
              "      <td>#গেবনের শেষে আইসা আপনার মুখোশ টা খুলছে এতেই আম...</td>\n",
              "      <td>1</td>\n",
              "      <td></td>\n",
              "    </tr>\n",
              "    <tr>\n",
              "      <th>2</th>\n",
              "      <td>3</td>\n",
              "      <td>✈✈✈✈��� মুরগি চোরের পাছায় ডুকবি আর মারবি।।।</td>\n",
              "      <td>1</td>\n",
              "      <td></td>\n",
              "    </tr>\n",
              "    <tr>\n",
              "      <th>3</th>\n",
              "      <td>4</td>\n",
              "      <td>১৮ কোটির চোদা খাওয়া শেষে এখন ১৫০কোটির চোদা খাব...</td>\n",
              "      <td>1</td>\n",
              "      <td></td>\n",
              "    </tr>\n",
              "    <tr>\n",
              "      <th>4</th>\n",
              "      <td>5</td>\n",
              "      <td>২য় মীর জাফরের মুখে মুতে দে...</td>\n",
              "      <td>1</td>\n",
              "      <td></td>\n",
              "    </tr>\n",
              "  </tbody>\n",
              "</table>\n",
              "</div>\n",
              "      <button class=\"colab-df-convert\" onclick=\"convertToInteractive('df-6f355ba6-966e-491b-8729-fc05941f4eec')\"\n",
              "              title=\"Convert this dataframe to an interactive table.\"\n",
              "              style=\"display:none;\">\n",
              "        \n",
              "  <svg xmlns=\"http://www.w3.org/2000/svg\" height=\"24px\"viewBox=\"0 0 24 24\"\n",
              "       width=\"24px\">\n",
              "    <path d=\"M0 0h24v24H0V0z\" fill=\"none\"/>\n",
              "    <path d=\"M18.56 5.44l.94 2.06.94-2.06 2.06-.94-2.06-.94-.94-2.06-.94 2.06-2.06.94zm-11 1L8.5 8.5l.94-2.06 2.06-.94-2.06-.94L8.5 2.5l-.94 2.06-2.06.94zm10 10l.94 2.06.94-2.06 2.06-.94-2.06-.94-.94-2.06-.94 2.06-2.06.94z\"/><path d=\"M17.41 7.96l-1.37-1.37c-.4-.4-.92-.59-1.43-.59-.52 0-1.04.2-1.43.59L10.3 9.45l-7.72 7.72c-.78.78-.78 2.05 0 2.83L4 21.41c.39.39.9.59 1.41.59.51 0 1.02-.2 1.41-.59l7.78-7.78 2.81-2.81c.8-.78.8-2.07 0-2.86zM5.41 20L4 18.59l7.72-7.72 1.47 1.35L5.41 20z\"/>\n",
              "  </svg>\n",
              "      </button>\n",
              "      \n",
              "  <style>\n",
              "    .colab-df-container {\n",
              "      display:flex;\n",
              "      flex-wrap:wrap;\n",
              "      gap: 12px;\n",
              "    }\n",
              "\n",
              "    .colab-df-convert {\n",
              "      background-color: #E8F0FE;\n",
              "      border: none;\n",
              "      border-radius: 50%;\n",
              "      cursor: pointer;\n",
              "      display: none;\n",
              "      fill: #1967D2;\n",
              "      height: 32px;\n",
              "      padding: 0 0 0 0;\n",
              "      width: 32px;\n",
              "    }\n",
              "\n",
              "    .colab-df-convert:hover {\n",
              "      background-color: #E2EBFA;\n",
              "      box-shadow: 0px 1px 2px rgba(60, 64, 67, 0.3), 0px 1px 3px 1px rgba(60, 64, 67, 0.15);\n",
              "      fill: #174EA6;\n",
              "    }\n",
              "\n",
              "    [theme=dark] .colab-df-convert {\n",
              "      background-color: #3B4455;\n",
              "      fill: #D2E3FC;\n",
              "    }\n",
              "\n",
              "    [theme=dark] .colab-df-convert:hover {\n",
              "      background-color: #434B5C;\n",
              "      box-shadow: 0px 1px 3px 1px rgba(0, 0, 0, 0.15);\n",
              "      filter: drop-shadow(0px 1px 2px rgba(0, 0, 0, 0.3));\n",
              "      fill: #FFFFFF;\n",
              "    }\n",
              "  </style>\n",
              "\n",
              "      <script>\n",
              "        const buttonEl =\n",
              "          document.querySelector('#df-6f355ba6-966e-491b-8729-fc05941f4eec button.colab-df-convert');\n",
              "        buttonEl.style.display =\n",
              "          google.colab.kernel.accessAllowed ? 'block' : 'none';\n",
              "\n",
              "        async function convertToInteractive(key) {\n",
              "          const element = document.querySelector('#df-6f355ba6-966e-491b-8729-fc05941f4eec');\n",
              "          const dataTable =\n",
              "            await google.colab.kernel.invokeFunction('convertToInteractive',\n",
              "                                                     [key], {});\n",
              "          if (!dataTable) return;\n",
              "\n",
              "          const docLinkHtml = 'Like what you see? Visit the ' +\n",
              "            '<a target=\"_blank\" href=https://colab.research.google.com/notebooks/data_table.ipynb>data table notebook</a>'\n",
              "            + ' to learn more about interactive tables.';\n",
              "          element.innerHTML = '';\n",
              "          dataTable['output_type'] = 'display_data';\n",
              "          await google.colab.output.renderOutput(dataTable, element);\n",
              "          const docLink = document.createElement('div');\n",
              "          docLink.innerHTML = docLinkHtml;\n",
              "          element.appendChild(docLink);\n",
              "        }\n",
              "      </script>\n",
              "    </div>\n",
              "  </div>\n",
              "  "
            ]
          },
          "metadata": {},
          "execution_count": 9
        }
      ]
    },
    {
      "cell_type": "code",
      "source": [
        "# Split data into training and test sets\n",
        "from sklearn.model_selection import train_test_split\n",
        "X = df['comments']\n",
        "y = df['label']\n",
        "\n",
        "X_train, X_test, y_train, y_test = train_test_split(X, y, test_size=0.2, stratify = None)"
      ],
      "metadata": {
        "id": "dipXCvpHhttZ"
      },
      "execution_count": null,
      "outputs": []
    },
    {
      "cell_type": "code",
      "source": [
        "from sklearn.feature_extraction.text import CountVectorizer, TfidfTransformer\n",
        "count_vect = CountVectorizer(stop_words='english')\n",
        "transformer = TfidfTransformer(norm='l2',sublinear_tf=True)"
      ],
      "metadata": {
        "id": "osiYMfv_hyz2"
      },
      "execution_count": null,
      "outputs": []
    },
    {
      "cell_type": "code",
      "source": [
        "x_train_counts = count_vect.fit_transform(X_train)\n",
        "x_train_tfidf = transformer.fit_transform(x_train_counts)"
      ],
      "metadata": {
        "id": "zYqBtM4Yii7y"
      },
      "execution_count": null,
      "outputs": []
    },
    {
      "cell_type": "code",
      "source": [
        "print(x_train_counts.shape)\n",
        "print(x_train_tfidf.shape)"
      ],
      "metadata": {
        "colab": {
          "base_uri": "https://localhost:8080/"
        },
        "id": "CryoqlLuimIu",
        "outputId": "01ca3b01-1910-4203-f8f9-8b8684ab0e56"
      },
      "execution_count": null,
      "outputs": [
        {
          "output_type": "stream",
          "name": "stdout",
          "text": [
            "(32179, 5806)\n",
            "(32179, 5806)\n"
          ]
        }
      ]
    },
    {
      "cell_type": "code",
      "source": [
        "x_test_counts = count_vect.transform(X_test)\n",
        "x_test_tfidf = transformer.transform(x_test_counts)"
      ],
      "metadata": {
        "id": "5cDkL5PpioyU"
      },
      "execution_count": null,
      "outputs": []
    },
    {
      "cell_type": "code",
      "source": [
        "from sklearn.ensemble import RandomForestClassifier\n",
        "model = RandomForestClassifier(n_estimators=500)\n",
        "model.fit(x_train_tfidf,y_train)"
      ],
      "metadata": {
        "colab": {
          "base_uri": "https://localhost:8080/",
          "height": 75
        },
        "id": "1i7vyJtqirCo",
        "outputId": "a2c697fd-609a-4b64-8ffa-c8e61926ebc2"
      },
      "execution_count": null,
      "outputs": [
        {
          "output_type": "execute_result",
          "data": {
            "text/plain": [
              "RandomForestClassifier(n_estimators=500)"
            ],
            "text/html": [
              "<style>#sk-container-id-1 {color: black;background-color: white;}#sk-container-id-1 pre{padding: 0;}#sk-container-id-1 div.sk-toggleable {background-color: white;}#sk-container-id-1 label.sk-toggleable__label {cursor: pointer;display: block;width: 100%;margin-bottom: 0;padding: 0.3em;box-sizing: border-box;text-align: center;}#sk-container-id-1 label.sk-toggleable__label-arrow:before {content: \"▸\";float: left;margin-right: 0.25em;color: #696969;}#sk-container-id-1 label.sk-toggleable__label-arrow:hover:before {color: black;}#sk-container-id-1 div.sk-estimator:hover label.sk-toggleable__label-arrow:before {color: black;}#sk-container-id-1 div.sk-toggleable__content {max-height: 0;max-width: 0;overflow: hidden;text-align: left;background-color: #f0f8ff;}#sk-container-id-1 div.sk-toggleable__content pre {margin: 0.2em;color: black;border-radius: 0.25em;background-color: #f0f8ff;}#sk-container-id-1 input.sk-toggleable__control:checked~div.sk-toggleable__content {max-height: 200px;max-width: 100%;overflow: auto;}#sk-container-id-1 input.sk-toggleable__control:checked~label.sk-toggleable__label-arrow:before {content: \"▾\";}#sk-container-id-1 div.sk-estimator input.sk-toggleable__control:checked~label.sk-toggleable__label {background-color: #d4ebff;}#sk-container-id-1 div.sk-label input.sk-toggleable__control:checked~label.sk-toggleable__label {background-color: #d4ebff;}#sk-container-id-1 input.sk-hidden--visually {border: 0;clip: rect(1px 1px 1px 1px);clip: rect(1px, 1px, 1px, 1px);height: 1px;margin: -1px;overflow: hidden;padding: 0;position: absolute;width: 1px;}#sk-container-id-1 div.sk-estimator {font-family: monospace;background-color: #f0f8ff;border: 1px dotted black;border-radius: 0.25em;box-sizing: border-box;margin-bottom: 0.5em;}#sk-container-id-1 div.sk-estimator:hover {background-color: #d4ebff;}#sk-container-id-1 div.sk-parallel-item::after {content: \"\";width: 100%;border-bottom: 1px solid gray;flex-grow: 1;}#sk-container-id-1 div.sk-label:hover label.sk-toggleable__label {background-color: #d4ebff;}#sk-container-id-1 div.sk-serial::before {content: \"\";position: absolute;border-left: 1px solid gray;box-sizing: border-box;top: 0;bottom: 0;left: 50%;z-index: 0;}#sk-container-id-1 div.sk-serial {display: flex;flex-direction: column;align-items: center;background-color: white;padding-right: 0.2em;padding-left: 0.2em;position: relative;}#sk-container-id-1 div.sk-item {position: relative;z-index: 1;}#sk-container-id-1 div.sk-parallel {display: flex;align-items: stretch;justify-content: center;background-color: white;position: relative;}#sk-container-id-1 div.sk-item::before, #sk-container-id-1 div.sk-parallel-item::before {content: \"\";position: absolute;border-left: 1px solid gray;box-sizing: border-box;top: 0;bottom: 0;left: 50%;z-index: -1;}#sk-container-id-1 div.sk-parallel-item {display: flex;flex-direction: column;z-index: 1;position: relative;background-color: white;}#sk-container-id-1 div.sk-parallel-item:first-child::after {align-self: flex-end;width: 50%;}#sk-container-id-1 div.sk-parallel-item:last-child::after {align-self: flex-start;width: 50%;}#sk-container-id-1 div.sk-parallel-item:only-child::after {width: 0;}#sk-container-id-1 div.sk-dashed-wrapped {border: 1px dashed gray;margin: 0 0.4em 0.5em 0.4em;box-sizing: border-box;padding-bottom: 0.4em;background-color: white;}#sk-container-id-1 div.sk-label label {font-family: monospace;font-weight: bold;display: inline-block;line-height: 1.2em;}#sk-container-id-1 div.sk-label-container {text-align: center;}#sk-container-id-1 div.sk-container {/* jupyter's `normalize.less` sets `[hidden] { display: none; }` but bootstrap.min.css set `[hidden] { display: none !important; }` so we also need the `!important` here to be able to override the default hidden behavior on the sphinx rendered scikit-learn.org. See: https://github.com/scikit-learn/scikit-learn/issues/21755 */display: inline-block !important;position: relative;}#sk-container-id-1 div.sk-text-repr-fallback {display: none;}</style><div id=\"sk-container-id-1\" class=\"sk-top-container\"><div class=\"sk-text-repr-fallback\"><pre>RandomForestClassifier(n_estimators=500)</pre><b>In a Jupyter environment, please rerun this cell to show the HTML representation or trust the notebook. <br />On GitHub, the HTML representation is unable to render, please try loading this page with nbviewer.org.</b></div><div class=\"sk-container\" hidden><div class=\"sk-item\"><div class=\"sk-estimator sk-toggleable\"><input class=\"sk-toggleable__control sk-hidden--visually\" id=\"sk-estimator-id-1\" type=\"checkbox\" checked><label for=\"sk-estimator-id-1\" class=\"sk-toggleable__label sk-toggleable__label-arrow\">RandomForestClassifier</label><div class=\"sk-toggleable__content\"><pre>RandomForestClassifier(n_estimators=500)</pre></div></div></div></div></div>"
            ]
          },
          "metadata": {},
          "execution_count": 14
        }
      ]
    },
    {
      "cell_type": "code",
      "source": [
        "predictions = model.predict(x_test_tfidf)"
      ],
      "metadata": {
        "id": "EWoxpelvivA5"
      },
      "execution_count": null,
      "outputs": []
    },
    {
      "cell_type": "code",
      "source": [
        "print(confusion_matrix(y_test,predictions))\n",
        "print(classification_report(y_test, predictions))"
      ],
      "metadata": {
        "colab": {
          "base_uri": "https://localhost:8080/"
        },
        "id": "trq1MrN-kAEa",
        "outputId": "4ca1ebc1-f508-4951-ca72-7f2a8b843702"
      },
      "execution_count": null,
      "outputs": [
        {
          "output_type": "stream",
          "name": "stdout",
          "text": [
            "[[3165 1067]\n",
            " [1270 2543]]\n",
            "              precision    recall  f1-score   support\n",
            "\n",
            "           0       0.71      0.75      0.73      4232\n",
            "           1       0.70      0.67      0.69      3813\n",
            "\n",
            "    accuracy                           0.71      8045\n",
            "   macro avg       0.71      0.71      0.71      8045\n",
            "weighted avg       0.71      0.71      0.71      8045\n",
            "\n"
          ]
        }
      ]
    },
    {
      "cell_type": "code",
      "source": [
        "#Building XGBoost Model\n",
        "from xgboost import XGBClassifier\n",
        "model_bow = XGBClassifier(random_state=22,learning_rate=0.9)\n",
        "model_bow.fit(x_train_tfidf,y_train)"
      ],
      "metadata": {
        "colab": {
          "base_uri": "https://localhost:8080/",
          "height": 248
        },
        "id": "Z1aEhmhtkSyG",
        "outputId": "ac661ba4-de8a-4387-eb24-a66006d174aa"
      },
      "execution_count": null,
      "outputs": [
        {
          "output_type": "execute_result",
          "data": {
            "text/plain": [
              "XGBClassifier(base_score=None, booster=None, callbacks=None,\n",
              "              colsample_bylevel=None, colsample_bynode=None,\n",
              "              colsample_bytree=None, early_stopping_rounds=None,\n",
              "              enable_categorical=False, eval_metric=None, feature_types=None,\n",
              "              gamma=None, gpu_id=None, grow_policy=None, importance_type=None,\n",
              "              interaction_constraints=None, learning_rate=0.9, max_bin=None,\n",
              "              max_cat_threshold=None, max_cat_to_onehot=None,\n",
              "              max_delta_step=None, max_depth=None, max_leaves=None,\n",
              "              min_child_weight=None, missing=nan, monotone_constraints=None,\n",
              "              n_estimators=100, n_jobs=None, num_parallel_tree=None,\n",
              "              predictor=None, random_state=22, ...)"
            ],
            "text/html": [
              "<style>#sk-container-id-2 {color: black;background-color: white;}#sk-container-id-2 pre{padding: 0;}#sk-container-id-2 div.sk-toggleable {background-color: white;}#sk-container-id-2 label.sk-toggleable__label {cursor: pointer;display: block;width: 100%;margin-bottom: 0;padding: 0.3em;box-sizing: border-box;text-align: center;}#sk-container-id-2 label.sk-toggleable__label-arrow:before {content: \"▸\";float: left;margin-right: 0.25em;color: #696969;}#sk-container-id-2 label.sk-toggleable__label-arrow:hover:before {color: black;}#sk-container-id-2 div.sk-estimator:hover label.sk-toggleable__label-arrow:before {color: black;}#sk-container-id-2 div.sk-toggleable__content {max-height: 0;max-width: 0;overflow: hidden;text-align: left;background-color: #f0f8ff;}#sk-container-id-2 div.sk-toggleable__content pre {margin: 0.2em;color: black;border-radius: 0.25em;background-color: #f0f8ff;}#sk-container-id-2 input.sk-toggleable__control:checked~div.sk-toggleable__content {max-height: 200px;max-width: 100%;overflow: auto;}#sk-container-id-2 input.sk-toggleable__control:checked~label.sk-toggleable__label-arrow:before {content: \"▾\";}#sk-container-id-2 div.sk-estimator input.sk-toggleable__control:checked~label.sk-toggleable__label {background-color: #d4ebff;}#sk-container-id-2 div.sk-label input.sk-toggleable__control:checked~label.sk-toggleable__label {background-color: #d4ebff;}#sk-container-id-2 input.sk-hidden--visually {border: 0;clip: rect(1px 1px 1px 1px);clip: rect(1px, 1px, 1px, 1px);height: 1px;margin: -1px;overflow: hidden;padding: 0;position: absolute;width: 1px;}#sk-container-id-2 div.sk-estimator {font-family: monospace;background-color: #f0f8ff;border: 1px dotted black;border-radius: 0.25em;box-sizing: border-box;margin-bottom: 0.5em;}#sk-container-id-2 div.sk-estimator:hover {background-color: #d4ebff;}#sk-container-id-2 div.sk-parallel-item::after {content: \"\";width: 100%;border-bottom: 1px solid gray;flex-grow: 1;}#sk-container-id-2 div.sk-label:hover label.sk-toggleable__label {background-color: #d4ebff;}#sk-container-id-2 div.sk-serial::before {content: \"\";position: absolute;border-left: 1px solid gray;box-sizing: border-box;top: 0;bottom: 0;left: 50%;z-index: 0;}#sk-container-id-2 div.sk-serial {display: flex;flex-direction: column;align-items: center;background-color: white;padding-right: 0.2em;padding-left: 0.2em;position: relative;}#sk-container-id-2 div.sk-item {position: relative;z-index: 1;}#sk-container-id-2 div.sk-parallel {display: flex;align-items: stretch;justify-content: center;background-color: white;position: relative;}#sk-container-id-2 div.sk-item::before, #sk-container-id-2 div.sk-parallel-item::before {content: \"\";position: absolute;border-left: 1px solid gray;box-sizing: border-box;top: 0;bottom: 0;left: 50%;z-index: -1;}#sk-container-id-2 div.sk-parallel-item {display: flex;flex-direction: column;z-index: 1;position: relative;background-color: white;}#sk-container-id-2 div.sk-parallel-item:first-child::after {align-self: flex-end;width: 50%;}#sk-container-id-2 div.sk-parallel-item:last-child::after {align-self: flex-start;width: 50%;}#sk-container-id-2 div.sk-parallel-item:only-child::after {width: 0;}#sk-container-id-2 div.sk-dashed-wrapped {border: 1px dashed gray;margin: 0 0.4em 0.5em 0.4em;box-sizing: border-box;padding-bottom: 0.4em;background-color: white;}#sk-container-id-2 div.sk-label label {font-family: monospace;font-weight: bold;display: inline-block;line-height: 1.2em;}#sk-container-id-2 div.sk-label-container {text-align: center;}#sk-container-id-2 div.sk-container {/* jupyter's `normalize.less` sets `[hidden] { display: none; }` but bootstrap.min.css set `[hidden] { display: none !important; }` so we also need the `!important` here to be able to override the default hidden behavior on the sphinx rendered scikit-learn.org. See: https://github.com/scikit-learn/scikit-learn/issues/21755 */display: inline-block !important;position: relative;}#sk-container-id-2 div.sk-text-repr-fallback {display: none;}</style><div id=\"sk-container-id-2\" class=\"sk-top-container\"><div class=\"sk-text-repr-fallback\"><pre>XGBClassifier(base_score=None, booster=None, callbacks=None,\n",
              "              colsample_bylevel=None, colsample_bynode=None,\n",
              "              colsample_bytree=None, early_stopping_rounds=None,\n",
              "              enable_categorical=False, eval_metric=None, feature_types=None,\n",
              "              gamma=None, gpu_id=None, grow_policy=None, importance_type=None,\n",
              "              interaction_constraints=None, learning_rate=0.9, max_bin=None,\n",
              "              max_cat_threshold=None, max_cat_to_onehot=None,\n",
              "              max_delta_step=None, max_depth=None, max_leaves=None,\n",
              "              min_child_weight=None, missing=nan, monotone_constraints=None,\n",
              "              n_estimators=100, n_jobs=None, num_parallel_tree=None,\n",
              "              predictor=None, random_state=22, ...)</pre><b>In a Jupyter environment, please rerun this cell to show the HTML representation or trust the notebook. <br />On GitHub, the HTML representation is unable to render, please try loading this page with nbviewer.org.</b></div><div class=\"sk-container\" hidden><div class=\"sk-item\"><div class=\"sk-estimator sk-toggleable\"><input class=\"sk-toggleable__control sk-hidden--visually\" id=\"sk-estimator-id-2\" type=\"checkbox\" checked><label for=\"sk-estimator-id-2\" class=\"sk-toggleable__label sk-toggleable__label-arrow\">XGBClassifier</label><div class=\"sk-toggleable__content\"><pre>XGBClassifier(base_score=None, booster=None, callbacks=None,\n",
              "              colsample_bylevel=None, colsample_bynode=None,\n",
              "              colsample_bytree=None, early_stopping_rounds=None,\n",
              "              enable_categorical=False, eval_metric=None, feature_types=None,\n",
              "              gamma=None, gpu_id=None, grow_policy=None, importance_type=None,\n",
              "              interaction_constraints=None, learning_rate=0.9, max_bin=None,\n",
              "              max_cat_threshold=None, max_cat_to_onehot=None,\n",
              "              max_delta_step=None, max_depth=None, max_leaves=None,\n",
              "              min_child_weight=None, missing=nan, monotone_constraints=None,\n",
              "              n_estimators=100, n_jobs=None, num_parallel_tree=None,\n",
              "              predictor=None, random_state=22, ...)</pre></div></div></div></div></div>"
            ]
          },
          "metadata": {},
          "execution_count": 18
        }
      ]
    },
    {
      "cell_type": "code",
      "source": [
        "predict_xgb = model_bow.predict(x_test_tfidf)"
      ],
      "metadata": {
        "id": "lIhG_G6rkXhf"
      },
      "execution_count": null,
      "outputs": []
    },
    {
      "cell_type": "code",
      "source": [
        "print(confusion_matrix(y_test,predict_xgb))\n",
        "print(classification_report(y_test,predict_xgb))"
      ],
      "metadata": {
        "colab": {
          "base_uri": "https://localhost:8080/"
        },
        "id": "L9nQ6PoakaCO",
        "outputId": "d943766d-f086-4824-cfc6-68c5188953aa"
      },
      "execution_count": null,
      "outputs": [
        {
          "output_type": "stream",
          "name": "stdout",
          "text": [
            "[[3303  929]\n",
            " [1494 2319]]\n",
            "              precision    recall  f1-score   support\n",
            "\n",
            "           0       0.69      0.78      0.73      4232\n",
            "           1       0.71      0.61      0.66      3813\n",
            "\n",
            "    accuracy                           0.70      8045\n",
            "   macro avg       0.70      0.69      0.69      8045\n",
            "weighted avg       0.70      0.70      0.70      8045\n",
            "\n"
          ]
        }
      ]
    },
    {
      "cell_type": "code",
      "source": [
        "#SVM Model\n",
        "from sklearn import svm\n",
        "lin_clf = svm.LinearSVC()\n",
        "lin_clf.fit(x_train_tfidf,y_train)"
      ],
      "metadata": {
        "colab": {
          "base_uri": "https://localhost:8080/",
          "height": 75
        },
        "id": "h5DUSLpzkdoM",
        "outputId": "5a0a15a0-4de1-449c-8963-9101979abde1"
      },
      "execution_count": null,
      "outputs": [
        {
          "output_type": "execute_result",
          "data": {
            "text/plain": [
              "LinearSVC()"
            ],
            "text/html": [
              "<style>#sk-container-id-3 {color: black;background-color: white;}#sk-container-id-3 pre{padding: 0;}#sk-container-id-3 div.sk-toggleable {background-color: white;}#sk-container-id-3 label.sk-toggleable__label {cursor: pointer;display: block;width: 100%;margin-bottom: 0;padding: 0.3em;box-sizing: border-box;text-align: center;}#sk-container-id-3 label.sk-toggleable__label-arrow:before {content: \"▸\";float: left;margin-right: 0.25em;color: #696969;}#sk-container-id-3 label.sk-toggleable__label-arrow:hover:before {color: black;}#sk-container-id-3 div.sk-estimator:hover label.sk-toggleable__label-arrow:before {color: black;}#sk-container-id-3 div.sk-toggleable__content {max-height: 0;max-width: 0;overflow: hidden;text-align: left;background-color: #f0f8ff;}#sk-container-id-3 div.sk-toggleable__content pre {margin: 0.2em;color: black;border-radius: 0.25em;background-color: #f0f8ff;}#sk-container-id-3 input.sk-toggleable__control:checked~div.sk-toggleable__content {max-height: 200px;max-width: 100%;overflow: auto;}#sk-container-id-3 input.sk-toggleable__control:checked~label.sk-toggleable__label-arrow:before {content: \"▾\";}#sk-container-id-3 div.sk-estimator input.sk-toggleable__control:checked~label.sk-toggleable__label {background-color: #d4ebff;}#sk-container-id-3 div.sk-label input.sk-toggleable__control:checked~label.sk-toggleable__label {background-color: #d4ebff;}#sk-container-id-3 input.sk-hidden--visually {border: 0;clip: rect(1px 1px 1px 1px);clip: rect(1px, 1px, 1px, 1px);height: 1px;margin: -1px;overflow: hidden;padding: 0;position: absolute;width: 1px;}#sk-container-id-3 div.sk-estimator {font-family: monospace;background-color: #f0f8ff;border: 1px dotted black;border-radius: 0.25em;box-sizing: border-box;margin-bottom: 0.5em;}#sk-container-id-3 div.sk-estimator:hover {background-color: #d4ebff;}#sk-container-id-3 div.sk-parallel-item::after {content: \"\";width: 100%;border-bottom: 1px solid gray;flex-grow: 1;}#sk-container-id-3 div.sk-label:hover label.sk-toggleable__label {background-color: #d4ebff;}#sk-container-id-3 div.sk-serial::before {content: \"\";position: absolute;border-left: 1px solid gray;box-sizing: border-box;top: 0;bottom: 0;left: 50%;z-index: 0;}#sk-container-id-3 div.sk-serial {display: flex;flex-direction: column;align-items: center;background-color: white;padding-right: 0.2em;padding-left: 0.2em;position: relative;}#sk-container-id-3 div.sk-item {position: relative;z-index: 1;}#sk-container-id-3 div.sk-parallel {display: flex;align-items: stretch;justify-content: center;background-color: white;position: relative;}#sk-container-id-3 div.sk-item::before, #sk-container-id-3 div.sk-parallel-item::before {content: \"\";position: absolute;border-left: 1px solid gray;box-sizing: border-box;top: 0;bottom: 0;left: 50%;z-index: -1;}#sk-container-id-3 div.sk-parallel-item {display: flex;flex-direction: column;z-index: 1;position: relative;background-color: white;}#sk-container-id-3 div.sk-parallel-item:first-child::after {align-self: flex-end;width: 50%;}#sk-container-id-3 div.sk-parallel-item:last-child::after {align-self: flex-start;width: 50%;}#sk-container-id-3 div.sk-parallel-item:only-child::after {width: 0;}#sk-container-id-3 div.sk-dashed-wrapped {border: 1px dashed gray;margin: 0 0.4em 0.5em 0.4em;box-sizing: border-box;padding-bottom: 0.4em;background-color: white;}#sk-container-id-3 div.sk-label label {font-family: monospace;font-weight: bold;display: inline-block;line-height: 1.2em;}#sk-container-id-3 div.sk-label-container {text-align: center;}#sk-container-id-3 div.sk-container {/* jupyter's `normalize.less` sets `[hidden] { display: none; }` but bootstrap.min.css set `[hidden] { display: none !important; }` so we also need the `!important` here to be able to override the default hidden behavior on the sphinx rendered scikit-learn.org. See: https://github.com/scikit-learn/scikit-learn/issues/21755 */display: inline-block !important;position: relative;}#sk-container-id-3 div.sk-text-repr-fallback {display: none;}</style><div id=\"sk-container-id-3\" class=\"sk-top-container\"><div class=\"sk-text-repr-fallback\"><pre>LinearSVC()</pre><b>In a Jupyter environment, please rerun this cell to show the HTML representation or trust the notebook. <br />On GitHub, the HTML representation is unable to render, please try loading this page with nbviewer.org.</b></div><div class=\"sk-container\" hidden><div class=\"sk-item\"><div class=\"sk-estimator sk-toggleable\"><input class=\"sk-toggleable__control sk-hidden--visually\" id=\"sk-estimator-id-3\" type=\"checkbox\" checked><label for=\"sk-estimator-id-3\" class=\"sk-toggleable__label sk-toggleable__label-arrow\">LinearSVC</label><div class=\"sk-toggleable__content\"><pre>LinearSVC()</pre></div></div></div></div></div>"
            ]
          },
          "metadata": {},
          "execution_count": 21
        }
      ]
    },
    {
      "cell_type": "code",
      "source": [
        "predict_svm = lin_clf.predict(x_test_tfidf)"
      ],
      "metadata": {
        "id": "Sbc5x5f3kg0q"
      },
      "execution_count": null,
      "outputs": []
    },
    {
      "cell_type": "code",
      "source": [
        "from sklearn.metrics import confusion_matrix,f1_score\n",
        "print(confusion_matrix(y_test,predict_svm))\n",
        "print(classification_report(y_test, predict_svm))"
      ],
      "metadata": {
        "colab": {
          "base_uri": "https://localhost:8080/"
        },
        "id": "3B1wok-3kiaP",
        "outputId": "645814d6-1a29-4223-ff63-f9c45d8b24e6"
      },
      "execution_count": null,
      "outputs": [
        {
          "output_type": "stream",
          "name": "stdout",
          "text": [
            "[[3260  972]\n",
            " [1416 2397]]\n",
            "              precision    recall  f1-score   support\n",
            "\n",
            "           0       0.70      0.77      0.73      4232\n",
            "           1       0.71      0.63      0.67      3813\n",
            "\n",
            "    accuracy                           0.70      8045\n",
            "   macro avg       0.70      0.70      0.70      8045\n",
            "weighted avg       0.70      0.70      0.70      8045\n",
            "\n"
          ]
        }
      ]
    },
    {
      "cell_type": "code",
      "source": [
        "#Logistic Regression Model\n",
        "from sklearn.linear_model import LogisticRegression"
      ],
      "metadata": {
        "id": "IVYTEtP1klQL"
      },
      "execution_count": null,
      "outputs": []
    },
    {
      "cell_type": "code",
      "source": [
        "logreg = LogisticRegression(random_state=42)"
      ],
      "metadata": {
        "id": "Pp68E9hDknih"
      },
      "execution_count": null,
      "outputs": []
    },
    {
      "cell_type": "code",
      "source": [
        "#Building Logistic Regression  Model\n",
        "logreg.fit(x_train_tfidf,y_train)"
      ],
      "metadata": {
        "colab": {
          "base_uri": "https://localhost:8080/",
          "height": 75
        },
        "id": "P3Qct57HkpOu",
        "outputId": "c0e4554b-453f-4c49-9da8-c638d2310fe1"
      },
      "execution_count": null,
      "outputs": [
        {
          "output_type": "execute_result",
          "data": {
            "text/plain": [
              "LogisticRegression(random_state=42)"
            ],
            "text/html": [
              "<style>#sk-container-id-4 {color: black;background-color: white;}#sk-container-id-4 pre{padding: 0;}#sk-container-id-4 div.sk-toggleable {background-color: white;}#sk-container-id-4 label.sk-toggleable__label {cursor: pointer;display: block;width: 100%;margin-bottom: 0;padding: 0.3em;box-sizing: border-box;text-align: center;}#sk-container-id-4 label.sk-toggleable__label-arrow:before {content: \"▸\";float: left;margin-right: 0.25em;color: #696969;}#sk-container-id-4 label.sk-toggleable__label-arrow:hover:before {color: black;}#sk-container-id-4 div.sk-estimator:hover label.sk-toggleable__label-arrow:before {color: black;}#sk-container-id-4 div.sk-toggleable__content {max-height: 0;max-width: 0;overflow: hidden;text-align: left;background-color: #f0f8ff;}#sk-container-id-4 div.sk-toggleable__content pre {margin: 0.2em;color: black;border-radius: 0.25em;background-color: #f0f8ff;}#sk-container-id-4 input.sk-toggleable__control:checked~div.sk-toggleable__content {max-height: 200px;max-width: 100%;overflow: auto;}#sk-container-id-4 input.sk-toggleable__control:checked~label.sk-toggleable__label-arrow:before {content: \"▾\";}#sk-container-id-4 div.sk-estimator input.sk-toggleable__control:checked~label.sk-toggleable__label {background-color: #d4ebff;}#sk-container-id-4 div.sk-label input.sk-toggleable__control:checked~label.sk-toggleable__label {background-color: #d4ebff;}#sk-container-id-4 input.sk-hidden--visually {border: 0;clip: rect(1px 1px 1px 1px);clip: rect(1px, 1px, 1px, 1px);height: 1px;margin: -1px;overflow: hidden;padding: 0;position: absolute;width: 1px;}#sk-container-id-4 div.sk-estimator {font-family: monospace;background-color: #f0f8ff;border: 1px dotted black;border-radius: 0.25em;box-sizing: border-box;margin-bottom: 0.5em;}#sk-container-id-4 div.sk-estimator:hover {background-color: #d4ebff;}#sk-container-id-4 div.sk-parallel-item::after {content: \"\";width: 100%;border-bottom: 1px solid gray;flex-grow: 1;}#sk-container-id-4 div.sk-label:hover label.sk-toggleable__label {background-color: #d4ebff;}#sk-container-id-4 div.sk-serial::before {content: \"\";position: absolute;border-left: 1px solid gray;box-sizing: border-box;top: 0;bottom: 0;left: 50%;z-index: 0;}#sk-container-id-4 div.sk-serial {display: flex;flex-direction: column;align-items: center;background-color: white;padding-right: 0.2em;padding-left: 0.2em;position: relative;}#sk-container-id-4 div.sk-item {position: relative;z-index: 1;}#sk-container-id-4 div.sk-parallel {display: flex;align-items: stretch;justify-content: center;background-color: white;position: relative;}#sk-container-id-4 div.sk-item::before, #sk-container-id-4 div.sk-parallel-item::before {content: \"\";position: absolute;border-left: 1px solid gray;box-sizing: border-box;top: 0;bottom: 0;left: 50%;z-index: -1;}#sk-container-id-4 div.sk-parallel-item {display: flex;flex-direction: column;z-index: 1;position: relative;background-color: white;}#sk-container-id-4 div.sk-parallel-item:first-child::after {align-self: flex-end;width: 50%;}#sk-container-id-4 div.sk-parallel-item:last-child::after {align-self: flex-start;width: 50%;}#sk-container-id-4 div.sk-parallel-item:only-child::after {width: 0;}#sk-container-id-4 div.sk-dashed-wrapped {border: 1px dashed gray;margin: 0 0.4em 0.5em 0.4em;box-sizing: border-box;padding-bottom: 0.4em;background-color: white;}#sk-container-id-4 div.sk-label label {font-family: monospace;font-weight: bold;display: inline-block;line-height: 1.2em;}#sk-container-id-4 div.sk-label-container {text-align: center;}#sk-container-id-4 div.sk-container {/* jupyter's `normalize.less` sets `[hidden] { display: none; }` but bootstrap.min.css set `[hidden] { display: none !important; }` so we also need the `!important` here to be able to override the default hidden behavior on the sphinx rendered scikit-learn.org. See: https://github.com/scikit-learn/scikit-learn/issues/21755 */display: inline-block !important;position: relative;}#sk-container-id-4 div.sk-text-repr-fallback {display: none;}</style><div id=\"sk-container-id-4\" class=\"sk-top-container\"><div class=\"sk-text-repr-fallback\"><pre>LogisticRegression(random_state=42)</pre><b>In a Jupyter environment, please rerun this cell to show the HTML representation or trust the notebook. <br />On GitHub, the HTML representation is unable to render, please try loading this page with nbviewer.org.</b></div><div class=\"sk-container\" hidden><div class=\"sk-item\"><div class=\"sk-estimator sk-toggleable\"><input class=\"sk-toggleable__control sk-hidden--visually\" id=\"sk-estimator-id-4\" type=\"checkbox\" checked><label for=\"sk-estimator-id-4\" class=\"sk-toggleable__label sk-toggleable__label-arrow\">LogisticRegression</label><div class=\"sk-toggleable__content\"><pre>LogisticRegression(random_state=42)</pre></div></div></div></div></div>"
            ]
          },
          "metadata": {},
          "execution_count": 28
        }
      ]
    },
    {
      "cell_type": "code",
      "source": [
        "predict_log = logreg.predict(x_test_tfidf)"
      ],
      "metadata": {
        "id": "Q_RCCNqVksJX"
      },
      "execution_count": null,
      "outputs": []
    },
    {
      "cell_type": "code",
      "source": [
        "print(confusion_matrix(y_test,predict_log))\n",
        "print(classification_report(y_test, predict_log))"
      ],
      "metadata": {
        "colab": {
          "base_uri": "https://localhost:8080/"
        },
        "id": "b9eZzmhakvKv",
        "outputId": "b6728cbb-abc3-4db1-89c9-9088595b02e5"
      },
      "execution_count": null,
      "outputs": [
        {
          "output_type": "stream",
          "name": "stdout",
          "text": [
            "[[3309  923]\n",
            " [1421 2392]]\n",
            "              precision    recall  f1-score   support\n",
            "\n",
            "           0       0.70      0.78      0.74      4232\n",
            "           1       0.72      0.63      0.67      3813\n",
            "\n",
            "    accuracy                           0.71      8045\n",
            "   macro avg       0.71      0.70      0.70      8045\n",
            "weighted avg       0.71      0.71      0.71      8045\n",
            "\n"
          ]
        }
      ]
    },
    {
      "cell_type": "code",
      "source": [
        "from sklearn.naive_bayes import MultinomialNB\n",
        "NB = MultinomialNB()\n",
        "NB.fit(x_train_tfidf, y_train)"
      ],
      "metadata": {
        "colab": {
          "base_uri": "https://localhost:8080/",
          "height": 75
        },
        "id": "yTea1keGkwxj",
        "outputId": "90e914e2-698a-41c2-c59f-f3b171f05b4f"
      },
      "execution_count": null,
      "outputs": [
        {
          "output_type": "execute_result",
          "data": {
            "text/plain": [
              "MultinomialNB()"
            ],
            "text/html": [
              "<style>#sk-container-id-5 {color: black;background-color: white;}#sk-container-id-5 pre{padding: 0;}#sk-container-id-5 div.sk-toggleable {background-color: white;}#sk-container-id-5 label.sk-toggleable__label {cursor: pointer;display: block;width: 100%;margin-bottom: 0;padding: 0.3em;box-sizing: border-box;text-align: center;}#sk-container-id-5 label.sk-toggleable__label-arrow:before {content: \"▸\";float: left;margin-right: 0.25em;color: #696969;}#sk-container-id-5 label.sk-toggleable__label-arrow:hover:before {color: black;}#sk-container-id-5 div.sk-estimator:hover label.sk-toggleable__label-arrow:before {color: black;}#sk-container-id-5 div.sk-toggleable__content {max-height: 0;max-width: 0;overflow: hidden;text-align: left;background-color: #f0f8ff;}#sk-container-id-5 div.sk-toggleable__content pre {margin: 0.2em;color: black;border-radius: 0.25em;background-color: #f0f8ff;}#sk-container-id-5 input.sk-toggleable__control:checked~div.sk-toggleable__content {max-height: 200px;max-width: 100%;overflow: auto;}#sk-container-id-5 input.sk-toggleable__control:checked~label.sk-toggleable__label-arrow:before {content: \"▾\";}#sk-container-id-5 div.sk-estimator input.sk-toggleable__control:checked~label.sk-toggleable__label {background-color: #d4ebff;}#sk-container-id-5 div.sk-label input.sk-toggleable__control:checked~label.sk-toggleable__label {background-color: #d4ebff;}#sk-container-id-5 input.sk-hidden--visually {border: 0;clip: rect(1px 1px 1px 1px);clip: rect(1px, 1px, 1px, 1px);height: 1px;margin: -1px;overflow: hidden;padding: 0;position: absolute;width: 1px;}#sk-container-id-5 div.sk-estimator {font-family: monospace;background-color: #f0f8ff;border: 1px dotted black;border-radius: 0.25em;box-sizing: border-box;margin-bottom: 0.5em;}#sk-container-id-5 div.sk-estimator:hover {background-color: #d4ebff;}#sk-container-id-5 div.sk-parallel-item::after {content: \"\";width: 100%;border-bottom: 1px solid gray;flex-grow: 1;}#sk-container-id-5 div.sk-label:hover label.sk-toggleable__label {background-color: #d4ebff;}#sk-container-id-5 div.sk-serial::before {content: \"\";position: absolute;border-left: 1px solid gray;box-sizing: border-box;top: 0;bottom: 0;left: 50%;z-index: 0;}#sk-container-id-5 div.sk-serial {display: flex;flex-direction: column;align-items: center;background-color: white;padding-right: 0.2em;padding-left: 0.2em;position: relative;}#sk-container-id-5 div.sk-item {position: relative;z-index: 1;}#sk-container-id-5 div.sk-parallel {display: flex;align-items: stretch;justify-content: center;background-color: white;position: relative;}#sk-container-id-5 div.sk-item::before, #sk-container-id-5 div.sk-parallel-item::before {content: \"\";position: absolute;border-left: 1px solid gray;box-sizing: border-box;top: 0;bottom: 0;left: 50%;z-index: -1;}#sk-container-id-5 div.sk-parallel-item {display: flex;flex-direction: column;z-index: 1;position: relative;background-color: white;}#sk-container-id-5 div.sk-parallel-item:first-child::after {align-self: flex-end;width: 50%;}#sk-container-id-5 div.sk-parallel-item:last-child::after {align-self: flex-start;width: 50%;}#sk-container-id-5 div.sk-parallel-item:only-child::after {width: 0;}#sk-container-id-5 div.sk-dashed-wrapped {border: 1px dashed gray;margin: 0 0.4em 0.5em 0.4em;box-sizing: border-box;padding-bottom: 0.4em;background-color: white;}#sk-container-id-5 div.sk-label label {font-family: monospace;font-weight: bold;display: inline-block;line-height: 1.2em;}#sk-container-id-5 div.sk-label-container {text-align: center;}#sk-container-id-5 div.sk-container {/* jupyter's `normalize.less` sets `[hidden] { display: none; }` but bootstrap.min.css set `[hidden] { display: none !important; }` so we also need the `!important` here to be able to override the default hidden behavior on the sphinx rendered scikit-learn.org. See: https://github.com/scikit-learn/scikit-learn/issues/21755 */display: inline-block !important;position: relative;}#sk-container-id-5 div.sk-text-repr-fallback {display: none;}</style><div id=\"sk-container-id-5\" class=\"sk-top-container\"><div class=\"sk-text-repr-fallback\"><pre>MultinomialNB()</pre><b>In a Jupyter environment, please rerun this cell to show the HTML representation or trust the notebook. <br />On GitHub, the HTML representation is unable to render, please try loading this page with nbviewer.org.</b></div><div class=\"sk-container\" hidden><div class=\"sk-item\"><div class=\"sk-estimator sk-toggleable\"><input class=\"sk-toggleable__control sk-hidden--visually\" id=\"sk-estimator-id-5\" type=\"checkbox\" checked><label for=\"sk-estimator-id-5\" class=\"sk-toggleable__label sk-toggleable__label-arrow\">MultinomialNB</label><div class=\"sk-toggleable__content\"><pre>MultinomialNB()</pre></div></div></div></div></div>"
            ]
          },
          "metadata": {},
          "execution_count": 31
        }
      ]
    },
    {
      "cell_type": "code",
      "source": [
        "predict_nb = NB.predict(x_test_tfidf)"
      ],
      "metadata": {
        "id": "bhUb5vpzk9rJ"
      },
      "execution_count": null,
      "outputs": []
    },
    {
      "cell_type": "code",
      "source": [
        "print(confusion_matrix(y_test,predict_nb))\n",
        "print(classification_report(y_test, predict_nb))"
      ],
      "metadata": {
        "colab": {
          "base_uri": "https://localhost:8080/"
        },
        "id": "KCDIvP51lBNS",
        "outputId": "0f406018-be50-42c0-d5b7-58101d9b8d5d"
      },
      "execution_count": null,
      "outputs": [
        {
          "output_type": "stream",
          "name": "stdout",
          "text": [
            "[[3345  887]\n",
            " [1478 2335]]\n",
            "              precision    recall  f1-score   support\n",
            "\n",
            "           0       0.69      0.79      0.74      4232\n",
            "           1       0.72      0.61      0.66      3813\n",
            "\n",
            "    accuracy                           0.71      8045\n",
            "   macro avg       0.71      0.70      0.70      8045\n",
            "weighted avg       0.71      0.71      0.70      8045\n",
            "\n"
          ]
        }
      ]
    },
    {
      "cell_type": "code",
      "source": [
        "#Test Data Set\n",
        "df_test = pd.read_csv(\"/content/drive/MyDrive/431/2/test.csv\")\n",
        "df_test.head()"
      ],
      "metadata": {
        "colab": {
          "base_uri": "https://localhost:8080/",
          "height": 206
        },
        "id": "7iamAeoElEsq",
        "outputId": "39050494-fb0d-470f-cea3-78070e7f201c"
      },
      "execution_count": null,
      "outputs": [
        {
          "output_type": "execute_result",
          "data": {
            "text/plain": [
              "                                              coment  id  lebel\n",
              "0                       । গরুর বাচ্চা কুকুরের বাচ্চা   1      1\n",
              "1  অন্যায় দাবি করছে ক্রিকেটাররা অথচ দোষ নাকি বোর্...   2      1\n",
              "2        আইসিসিকে এই তথ্য দিলো কে?শুওরের বাচ্চা পাপন   3      1\n",
              "3  আওয়ামীলীগ ভারতের দালাল। মোদি নির্বাচিত হওয়ার প...   4      1\n",
              "4          আগারওয়াল পিউর বাস্টার্ড এর কিছু হবে না???   5      1"
            ],
            "text/html": [
              "\n",
              "  <div id=\"df-f7584d3a-d71a-4681-935f-53781ef91a7e\">\n",
              "    <div class=\"colab-df-container\">\n",
              "      <div>\n",
              "<style scoped>\n",
              "    .dataframe tbody tr th:only-of-type {\n",
              "        vertical-align: middle;\n",
              "    }\n",
              "\n",
              "    .dataframe tbody tr th {\n",
              "        vertical-align: top;\n",
              "    }\n",
              "\n",
              "    .dataframe thead th {\n",
              "        text-align: right;\n",
              "    }\n",
              "</style>\n",
              "<table border=\"1\" class=\"dataframe\">\n",
              "  <thead>\n",
              "    <tr style=\"text-align: right;\">\n",
              "      <th></th>\n",
              "      <th>coment</th>\n",
              "      <th>id</th>\n",
              "      <th>lebel</th>\n",
              "    </tr>\n",
              "  </thead>\n",
              "  <tbody>\n",
              "    <tr>\n",
              "      <th>0</th>\n",
              "      <td>। গরুর বাচ্চা কুকুরের বাচ্চা</td>\n",
              "      <td>1</td>\n",
              "      <td>1</td>\n",
              "    </tr>\n",
              "    <tr>\n",
              "      <th>1</th>\n",
              "      <td>অন্যায় দাবি করছে ক্রিকেটাররা অথচ দোষ নাকি বোর্...</td>\n",
              "      <td>2</td>\n",
              "      <td>1</td>\n",
              "    </tr>\n",
              "    <tr>\n",
              "      <th>2</th>\n",
              "      <td>আইসিসিকে এই তথ্য দিলো কে?শুওরের বাচ্চা পাপন</td>\n",
              "      <td>3</td>\n",
              "      <td>1</td>\n",
              "    </tr>\n",
              "    <tr>\n",
              "      <th>3</th>\n",
              "      <td>আওয়ামীলীগ ভারতের দালাল। মোদি নির্বাচিত হওয়ার প...</td>\n",
              "      <td>4</td>\n",
              "      <td>1</td>\n",
              "    </tr>\n",
              "    <tr>\n",
              "      <th>4</th>\n",
              "      <td>আগারওয়াল পিউর বাস্টার্ড এর কিছু হবে না???</td>\n",
              "      <td>5</td>\n",
              "      <td>1</td>\n",
              "    </tr>\n",
              "  </tbody>\n",
              "</table>\n",
              "</div>\n",
              "      <button class=\"colab-df-convert\" onclick=\"convertToInteractive('df-f7584d3a-d71a-4681-935f-53781ef91a7e')\"\n",
              "              title=\"Convert this dataframe to an interactive table.\"\n",
              "              style=\"display:none;\">\n",
              "        \n",
              "  <svg xmlns=\"http://www.w3.org/2000/svg\" height=\"24px\"viewBox=\"0 0 24 24\"\n",
              "       width=\"24px\">\n",
              "    <path d=\"M0 0h24v24H0V0z\" fill=\"none\"/>\n",
              "    <path d=\"M18.56 5.44l.94 2.06.94-2.06 2.06-.94-2.06-.94-.94-2.06-.94 2.06-2.06.94zm-11 1L8.5 8.5l.94-2.06 2.06-.94-2.06-.94L8.5 2.5l-.94 2.06-2.06.94zm10 10l.94 2.06.94-2.06 2.06-.94-2.06-.94-.94-2.06-.94 2.06-2.06.94z\"/><path d=\"M17.41 7.96l-1.37-1.37c-.4-.4-.92-.59-1.43-.59-.52 0-1.04.2-1.43.59L10.3 9.45l-7.72 7.72c-.78.78-.78 2.05 0 2.83L4 21.41c.39.39.9.59 1.41.59.51 0 1.02-.2 1.41-.59l7.78-7.78 2.81-2.81c.8-.78.8-2.07 0-2.86zM5.41 20L4 18.59l7.72-7.72 1.47 1.35L5.41 20z\"/>\n",
              "  </svg>\n",
              "      </button>\n",
              "      \n",
              "  <style>\n",
              "    .colab-df-container {\n",
              "      display:flex;\n",
              "      flex-wrap:wrap;\n",
              "      gap: 12px;\n",
              "    }\n",
              "\n",
              "    .colab-df-convert {\n",
              "      background-color: #E8F0FE;\n",
              "      border: none;\n",
              "      border-radius: 50%;\n",
              "      cursor: pointer;\n",
              "      display: none;\n",
              "      fill: #1967D2;\n",
              "      height: 32px;\n",
              "      padding: 0 0 0 0;\n",
              "      width: 32px;\n",
              "    }\n",
              "\n",
              "    .colab-df-convert:hover {\n",
              "      background-color: #E2EBFA;\n",
              "      box-shadow: 0px 1px 2px rgba(60, 64, 67, 0.3), 0px 1px 3px 1px rgba(60, 64, 67, 0.15);\n",
              "      fill: #174EA6;\n",
              "    }\n",
              "\n",
              "    [theme=dark] .colab-df-convert {\n",
              "      background-color: #3B4455;\n",
              "      fill: #D2E3FC;\n",
              "    }\n",
              "\n",
              "    [theme=dark] .colab-df-convert:hover {\n",
              "      background-color: #434B5C;\n",
              "      box-shadow: 0px 1px 3px 1px rgba(0, 0, 0, 0.15);\n",
              "      filter: drop-shadow(0px 1px 2px rgba(0, 0, 0, 0.3));\n",
              "      fill: #FFFFFF;\n",
              "    }\n",
              "  </style>\n",
              "\n",
              "      <script>\n",
              "        const buttonEl =\n",
              "          document.querySelector('#df-f7584d3a-d71a-4681-935f-53781ef91a7e button.colab-df-convert');\n",
              "        buttonEl.style.display =\n",
              "          google.colab.kernel.accessAllowed ? 'block' : 'none';\n",
              "\n",
              "        async function convertToInteractive(key) {\n",
              "          const element = document.querySelector('#df-f7584d3a-d71a-4681-935f-53781ef91a7e');\n",
              "          const dataTable =\n",
              "            await google.colab.kernel.invokeFunction('convertToInteractive',\n",
              "                                                     [key], {});\n",
              "          if (!dataTable) return;\n",
              "\n",
              "          const docLinkHtml = 'Like what you see? Visit the ' +\n",
              "            '<a target=\"_blank\" href=https://colab.research.google.com/notebooks/data_table.ipynb>data table notebook</a>'\n",
              "            + ' to learn more about interactive tables.';\n",
              "          element.innerHTML = '';\n",
              "          dataTable['output_type'] = 'display_data';\n",
              "          await google.colab.output.renderOutput(dataTable, element);\n",
              "          const docLink = document.createElement('div');\n",
              "          docLink.innerHTML = docLinkHtml;\n",
              "          element.appendChild(docLink);\n",
              "        }\n",
              "      </script>\n",
              "    </div>\n",
              "  </div>\n",
              "  "
            ]
          },
          "metadata": {},
          "execution_count": 34
        }
      ]
    },
    {
      "cell_type": "code",
      "source": [
        "df_test.shape"
      ],
      "metadata": {
        "colab": {
          "base_uri": "https://localhost:8080/"
        },
        "id": "qwYpdW_qm2p6",
        "outputId": "814c52dc-c151-489d-86e5-cc49b9e633a8"
      },
      "execution_count": null,
      "outputs": [
        {
          "output_type": "execute_result",
          "data": {
            "text/plain": [
              "(5029, 3)"
            ]
          },
          "metadata": {},
          "execution_count": 35
        }
      ]
    },
    {
      "cell_type": "code",
      "source": [
        "X = df_test['coment']\n",
        "x_test_counts = count_vect.transform(X)\n",
        "x_test_tfidf = transformer.transform(x_test_counts)"
      ],
      "metadata": {
        "id": "FEwscCF9m2kp"
      },
      "execution_count": null,
      "outputs": []
    },
    {
      "cell_type": "code",
      "source": [
        "df_test['predict_nb'] = NB.predict(x_test_tfidf)\n",
        "df_test[df_test['predict_nb']==1]"
      ],
      "metadata": {
        "colab": {
          "base_uri": "https://localhost:8080/",
          "height": 424
        },
        "id": "rOfieqo8nGeL",
        "outputId": "c6d2f526-28a9-42ed-9abe-ba0b3e1715f4"
      },
      "execution_count": null,
      "outputs": [
        {
          "output_type": "execute_result",
          "data": {
            "text/plain": [
              "                                                 coment    id  lebel  \\\n",
              "0                          । গরুর বাচ্চা কুকুরের বাচ্চা     1      1   \n",
              "2           আইসিসিকে এই তথ্য দিলো কে?শুওরের বাচ্চা পাপন     3      1   \n",
              "8                                              আবাল তুই     9      1   \n",
              "9                              আবাল দিয়ে দেশটা ভরে গেছে    10      1   \n",
              "10    আমার মতে পত্যক ক্রিকেটার এখন সাকিবের পাশে থাকা...    11      1   \n",
              "...                                                 ...   ...    ...   \n",
              "5000                   সেফাত উল্লার কথাগুলো তেমন ভাল না  5001      0   \n",
              "5003  সোহেল চৌধুরীতো অনেক অাগে মারা গেছে এসব ফালতু ভ...  5004      0   \n",
              "5007  স্টার জলসা জি বাংলা ধংশোকরলো সোনার বাংলা এই হল...  5008      0   \n",
              "5015                   হাত পা কাপতেছে আমারএটা কি দেখলাম  5016      0   \n",
              "5023  হে আল্লাহ এ রকম সন্তান কাওকে দিও না হে আল্লাহ ...  5024      0   \n",
              "\n",
              "      predict_nb  \n",
              "0              1  \n",
              "2              1  \n",
              "8              1  \n",
              "9              1  \n",
              "10             1  \n",
              "...          ...  \n",
              "5000           1  \n",
              "5003           1  \n",
              "5007           1  \n",
              "5015           1  \n",
              "5023           1  \n",
              "\n",
              "[2050 rows x 4 columns]"
            ],
            "text/html": [
              "\n",
              "  <div id=\"df-a92b611f-ec80-41b6-9008-e7883dbfe7cf\">\n",
              "    <div class=\"colab-df-container\">\n",
              "      <div>\n",
              "<style scoped>\n",
              "    .dataframe tbody tr th:only-of-type {\n",
              "        vertical-align: middle;\n",
              "    }\n",
              "\n",
              "    .dataframe tbody tr th {\n",
              "        vertical-align: top;\n",
              "    }\n",
              "\n",
              "    .dataframe thead th {\n",
              "        text-align: right;\n",
              "    }\n",
              "</style>\n",
              "<table border=\"1\" class=\"dataframe\">\n",
              "  <thead>\n",
              "    <tr style=\"text-align: right;\">\n",
              "      <th></th>\n",
              "      <th>coment</th>\n",
              "      <th>id</th>\n",
              "      <th>lebel</th>\n",
              "      <th>predict_nb</th>\n",
              "    </tr>\n",
              "  </thead>\n",
              "  <tbody>\n",
              "    <tr>\n",
              "      <th>0</th>\n",
              "      <td>। গরুর বাচ্চা কুকুরের বাচ্চা</td>\n",
              "      <td>1</td>\n",
              "      <td>1</td>\n",
              "      <td>1</td>\n",
              "    </tr>\n",
              "    <tr>\n",
              "      <th>2</th>\n",
              "      <td>আইসিসিকে এই তথ্য দিলো কে?শুওরের বাচ্চা পাপন</td>\n",
              "      <td>3</td>\n",
              "      <td>1</td>\n",
              "      <td>1</td>\n",
              "    </tr>\n",
              "    <tr>\n",
              "      <th>8</th>\n",
              "      <td>আবাল তুই</td>\n",
              "      <td>9</td>\n",
              "      <td>1</td>\n",
              "      <td>1</td>\n",
              "    </tr>\n",
              "    <tr>\n",
              "      <th>9</th>\n",
              "      <td>আবাল দিয়ে দেশটা ভরে গেছে</td>\n",
              "      <td>10</td>\n",
              "      <td>1</td>\n",
              "      <td>1</td>\n",
              "    </tr>\n",
              "    <tr>\n",
              "      <th>10</th>\n",
              "      <td>আমার মতে পত্যক ক্রিকেটার এখন সাকিবের পাশে থাকা...</td>\n",
              "      <td>11</td>\n",
              "      <td>1</td>\n",
              "      <td>1</td>\n",
              "    </tr>\n",
              "    <tr>\n",
              "      <th>...</th>\n",
              "      <td>...</td>\n",
              "      <td>...</td>\n",
              "      <td>...</td>\n",
              "      <td>...</td>\n",
              "    </tr>\n",
              "    <tr>\n",
              "      <th>5000</th>\n",
              "      <td>সেফাত উল্লার কথাগুলো তেমন ভাল না</td>\n",
              "      <td>5001</td>\n",
              "      <td>0</td>\n",
              "      <td>1</td>\n",
              "    </tr>\n",
              "    <tr>\n",
              "      <th>5003</th>\n",
              "      <td>সোহেল চৌধুরীতো অনেক অাগে মারা গেছে এসব ফালতু ভ...</td>\n",
              "      <td>5004</td>\n",
              "      <td>0</td>\n",
              "      <td>1</td>\n",
              "    </tr>\n",
              "    <tr>\n",
              "      <th>5007</th>\n",
              "      <td>স্টার জলসা জি বাংলা ধংশোকরলো সোনার বাংলা এই হল...</td>\n",
              "      <td>5008</td>\n",
              "      <td>0</td>\n",
              "      <td>1</td>\n",
              "    </tr>\n",
              "    <tr>\n",
              "      <th>5015</th>\n",
              "      <td>হাত পা কাপতেছে আমারএটা কি দেখলাম</td>\n",
              "      <td>5016</td>\n",
              "      <td>0</td>\n",
              "      <td>1</td>\n",
              "    </tr>\n",
              "    <tr>\n",
              "      <th>5023</th>\n",
              "      <td>হে আল্লাহ এ রকম সন্তান কাওকে দিও না হে আল্লাহ ...</td>\n",
              "      <td>5024</td>\n",
              "      <td>0</td>\n",
              "      <td>1</td>\n",
              "    </tr>\n",
              "  </tbody>\n",
              "</table>\n",
              "<p>2050 rows × 4 columns</p>\n",
              "</div>\n",
              "      <button class=\"colab-df-convert\" onclick=\"convertToInteractive('df-a92b611f-ec80-41b6-9008-e7883dbfe7cf')\"\n",
              "              title=\"Convert this dataframe to an interactive table.\"\n",
              "              style=\"display:none;\">\n",
              "        \n",
              "  <svg xmlns=\"http://www.w3.org/2000/svg\" height=\"24px\"viewBox=\"0 0 24 24\"\n",
              "       width=\"24px\">\n",
              "    <path d=\"M0 0h24v24H0V0z\" fill=\"none\"/>\n",
              "    <path d=\"M18.56 5.44l.94 2.06.94-2.06 2.06-.94-2.06-.94-.94-2.06-.94 2.06-2.06.94zm-11 1L8.5 8.5l.94-2.06 2.06-.94-2.06-.94L8.5 2.5l-.94 2.06-2.06.94zm10 10l.94 2.06.94-2.06 2.06-.94-2.06-.94-.94-2.06-.94 2.06-2.06.94z\"/><path d=\"M17.41 7.96l-1.37-1.37c-.4-.4-.92-.59-1.43-.59-.52 0-1.04.2-1.43.59L10.3 9.45l-7.72 7.72c-.78.78-.78 2.05 0 2.83L4 21.41c.39.39.9.59 1.41.59.51 0 1.02-.2 1.41-.59l7.78-7.78 2.81-2.81c.8-.78.8-2.07 0-2.86zM5.41 20L4 18.59l7.72-7.72 1.47 1.35L5.41 20z\"/>\n",
              "  </svg>\n",
              "      </button>\n",
              "      \n",
              "  <style>\n",
              "    .colab-df-container {\n",
              "      display:flex;\n",
              "      flex-wrap:wrap;\n",
              "      gap: 12px;\n",
              "    }\n",
              "\n",
              "    .colab-df-convert {\n",
              "      background-color: #E8F0FE;\n",
              "      border: none;\n",
              "      border-radius: 50%;\n",
              "      cursor: pointer;\n",
              "      display: none;\n",
              "      fill: #1967D2;\n",
              "      height: 32px;\n",
              "      padding: 0 0 0 0;\n",
              "      width: 32px;\n",
              "    }\n",
              "\n",
              "    .colab-df-convert:hover {\n",
              "      background-color: #E2EBFA;\n",
              "      box-shadow: 0px 1px 2px rgba(60, 64, 67, 0.3), 0px 1px 3px 1px rgba(60, 64, 67, 0.15);\n",
              "      fill: #174EA6;\n",
              "    }\n",
              "\n",
              "    [theme=dark] .colab-df-convert {\n",
              "      background-color: #3B4455;\n",
              "      fill: #D2E3FC;\n",
              "    }\n",
              "\n",
              "    [theme=dark] .colab-df-convert:hover {\n",
              "      background-color: #434B5C;\n",
              "      box-shadow: 0px 1px 3px 1px rgba(0, 0, 0, 0.15);\n",
              "      filter: drop-shadow(0px 1px 2px rgba(0, 0, 0, 0.3));\n",
              "      fill: #FFFFFF;\n",
              "    }\n",
              "  </style>\n",
              "\n",
              "      <script>\n",
              "        const buttonEl =\n",
              "          document.querySelector('#df-a92b611f-ec80-41b6-9008-e7883dbfe7cf button.colab-df-convert');\n",
              "        buttonEl.style.display =\n",
              "          google.colab.kernel.accessAllowed ? 'block' : 'none';\n",
              "\n",
              "        async function convertToInteractive(key) {\n",
              "          const element = document.querySelector('#df-a92b611f-ec80-41b6-9008-e7883dbfe7cf');\n",
              "          const dataTable =\n",
              "            await google.colab.kernel.invokeFunction('convertToInteractive',\n",
              "                                                     [key], {});\n",
              "          if (!dataTable) return;\n",
              "\n",
              "          const docLinkHtml = 'Like what you see? Visit the ' +\n",
              "            '<a target=\"_blank\" href=https://colab.research.google.com/notebooks/data_table.ipynb>data table notebook</a>'\n",
              "            + ' to learn more about interactive tables.';\n",
              "          element.innerHTML = '';\n",
              "          dataTable['output_type'] = 'display_data';\n",
              "          await google.colab.output.renderOutput(dataTable, element);\n",
              "          const docLink = document.createElement('div');\n",
              "          docLink.innerHTML = docLinkHtml;\n",
              "          element.appendChild(docLink);\n",
              "        }\n",
              "      </script>\n",
              "    </div>\n",
              "  </div>\n",
              "  "
            ]
          },
          "metadata": {},
          "execution_count": 37
        }
      ]
    },
    {
      "cell_type": "code",
      "source": [
        "df_test['predict_svm'] = NB.predict(x_test_tfidf)\n",
        "df_test['predict_rf'] = model.predict(x_test_tfidf)\n",
        "df_test.head()"
      ],
      "metadata": {
        "colab": {
          "base_uri": "https://localhost:8080/",
          "height": 206
        },
        "id": "PQvs-iHYnWu0",
        "outputId": "06c77733-5f25-485a-9459-adc977c8d882"
      },
      "execution_count": null,
      "outputs": [
        {
          "output_type": "execute_result",
          "data": {
            "text/plain": [
              "                                              coment  id  lebel  predict_nb  \\\n",
              "0                       । গরুর বাচ্চা কুকুরের বাচ্চা   1      1           1   \n",
              "1  অন্যায় দাবি করছে ক্রিকেটাররা অথচ দোষ নাকি বোর্...   2      1           0   \n",
              "2        আইসিসিকে এই তথ্য দিলো কে?শুওরের বাচ্চা পাপন   3      1           1   \n",
              "3  আওয়ামীলীগ ভারতের দালাল। মোদি নির্বাচিত হওয়ার প...   4      1           0   \n",
              "4          আগারওয়াল পিউর বাস্টার্ড এর কিছু হবে না???   5      1           0   \n",
              "\n",
              "   predict_svm  predict_rf  \n",
              "0            1           1  \n",
              "1            0           0  \n",
              "2            1           1  \n",
              "3            0           0  \n",
              "4            0           0  "
            ],
            "text/html": [
              "\n",
              "  <div id=\"df-91f3fc38-0eb4-4104-b7c2-17bd428d3d27\">\n",
              "    <div class=\"colab-df-container\">\n",
              "      <div>\n",
              "<style scoped>\n",
              "    .dataframe tbody tr th:only-of-type {\n",
              "        vertical-align: middle;\n",
              "    }\n",
              "\n",
              "    .dataframe tbody tr th {\n",
              "        vertical-align: top;\n",
              "    }\n",
              "\n",
              "    .dataframe thead th {\n",
              "        text-align: right;\n",
              "    }\n",
              "</style>\n",
              "<table border=\"1\" class=\"dataframe\">\n",
              "  <thead>\n",
              "    <tr style=\"text-align: right;\">\n",
              "      <th></th>\n",
              "      <th>coment</th>\n",
              "      <th>id</th>\n",
              "      <th>lebel</th>\n",
              "      <th>predict_nb</th>\n",
              "      <th>predict_svm</th>\n",
              "      <th>predict_rf</th>\n",
              "    </tr>\n",
              "  </thead>\n",
              "  <tbody>\n",
              "    <tr>\n",
              "      <th>0</th>\n",
              "      <td>। গরুর বাচ্চা কুকুরের বাচ্চা</td>\n",
              "      <td>1</td>\n",
              "      <td>1</td>\n",
              "      <td>1</td>\n",
              "      <td>1</td>\n",
              "      <td>1</td>\n",
              "    </tr>\n",
              "    <tr>\n",
              "      <th>1</th>\n",
              "      <td>অন্যায় দাবি করছে ক্রিকেটাররা অথচ দোষ নাকি বোর্...</td>\n",
              "      <td>2</td>\n",
              "      <td>1</td>\n",
              "      <td>0</td>\n",
              "      <td>0</td>\n",
              "      <td>0</td>\n",
              "    </tr>\n",
              "    <tr>\n",
              "      <th>2</th>\n",
              "      <td>আইসিসিকে এই তথ্য দিলো কে?শুওরের বাচ্চা পাপন</td>\n",
              "      <td>3</td>\n",
              "      <td>1</td>\n",
              "      <td>1</td>\n",
              "      <td>1</td>\n",
              "      <td>1</td>\n",
              "    </tr>\n",
              "    <tr>\n",
              "      <th>3</th>\n",
              "      <td>আওয়ামীলীগ ভারতের দালাল। মোদি নির্বাচিত হওয়ার প...</td>\n",
              "      <td>4</td>\n",
              "      <td>1</td>\n",
              "      <td>0</td>\n",
              "      <td>0</td>\n",
              "      <td>0</td>\n",
              "    </tr>\n",
              "    <tr>\n",
              "      <th>4</th>\n",
              "      <td>আগারওয়াল পিউর বাস্টার্ড এর কিছু হবে না???</td>\n",
              "      <td>5</td>\n",
              "      <td>1</td>\n",
              "      <td>0</td>\n",
              "      <td>0</td>\n",
              "      <td>0</td>\n",
              "    </tr>\n",
              "  </tbody>\n",
              "</table>\n",
              "</div>\n",
              "      <button class=\"colab-df-convert\" onclick=\"convertToInteractive('df-91f3fc38-0eb4-4104-b7c2-17bd428d3d27')\"\n",
              "              title=\"Convert this dataframe to an interactive table.\"\n",
              "              style=\"display:none;\">\n",
              "        \n",
              "  <svg xmlns=\"http://www.w3.org/2000/svg\" height=\"24px\"viewBox=\"0 0 24 24\"\n",
              "       width=\"24px\">\n",
              "    <path d=\"M0 0h24v24H0V0z\" fill=\"none\"/>\n",
              "    <path d=\"M18.56 5.44l.94 2.06.94-2.06 2.06-.94-2.06-.94-.94-2.06-.94 2.06-2.06.94zm-11 1L8.5 8.5l.94-2.06 2.06-.94-2.06-.94L8.5 2.5l-.94 2.06-2.06.94zm10 10l.94 2.06.94-2.06 2.06-.94-2.06-.94-.94-2.06-.94 2.06-2.06.94z\"/><path d=\"M17.41 7.96l-1.37-1.37c-.4-.4-.92-.59-1.43-.59-.52 0-1.04.2-1.43.59L10.3 9.45l-7.72 7.72c-.78.78-.78 2.05 0 2.83L4 21.41c.39.39.9.59 1.41.59.51 0 1.02-.2 1.41-.59l7.78-7.78 2.81-2.81c.8-.78.8-2.07 0-2.86zM5.41 20L4 18.59l7.72-7.72 1.47 1.35L5.41 20z\"/>\n",
              "  </svg>\n",
              "      </button>\n",
              "      \n",
              "  <style>\n",
              "    .colab-df-container {\n",
              "      display:flex;\n",
              "      flex-wrap:wrap;\n",
              "      gap: 12px;\n",
              "    }\n",
              "\n",
              "    .colab-df-convert {\n",
              "      background-color: #E8F0FE;\n",
              "      border: none;\n",
              "      border-radius: 50%;\n",
              "      cursor: pointer;\n",
              "      display: none;\n",
              "      fill: #1967D2;\n",
              "      height: 32px;\n",
              "      padding: 0 0 0 0;\n",
              "      width: 32px;\n",
              "    }\n",
              "\n",
              "    .colab-df-convert:hover {\n",
              "      background-color: #E2EBFA;\n",
              "      box-shadow: 0px 1px 2px rgba(60, 64, 67, 0.3), 0px 1px 3px 1px rgba(60, 64, 67, 0.15);\n",
              "      fill: #174EA6;\n",
              "    }\n",
              "\n",
              "    [theme=dark] .colab-df-convert {\n",
              "      background-color: #3B4455;\n",
              "      fill: #D2E3FC;\n",
              "    }\n",
              "\n",
              "    [theme=dark] .colab-df-convert:hover {\n",
              "      background-color: #434B5C;\n",
              "      box-shadow: 0px 1px 3px 1px rgba(0, 0, 0, 0.15);\n",
              "      filter: drop-shadow(0px 1px 2px rgba(0, 0, 0, 0.3));\n",
              "      fill: #FFFFFF;\n",
              "    }\n",
              "  </style>\n",
              "\n",
              "      <script>\n",
              "        const buttonEl =\n",
              "          document.querySelector('#df-91f3fc38-0eb4-4104-b7c2-17bd428d3d27 button.colab-df-convert');\n",
              "        buttonEl.style.display =\n",
              "          google.colab.kernel.accessAllowed ? 'block' : 'none';\n",
              "\n",
              "        async function convertToInteractive(key) {\n",
              "          const element = document.querySelector('#df-91f3fc38-0eb4-4104-b7c2-17bd428d3d27');\n",
              "          const dataTable =\n",
              "            await google.colab.kernel.invokeFunction('convertToInteractive',\n",
              "                                                     [key], {});\n",
              "          if (!dataTable) return;\n",
              "\n",
              "          const docLinkHtml = 'Like what you see? Visit the ' +\n",
              "            '<a target=\"_blank\" href=https://colab.research.google.com/notebooks/data_table.ipynb>data table notebook</a>'\n",
              "            + ' to learn more about interactive tables.';\n",
              "          element.innerHTML = '';\n",
              "          dataTable['output_type'] = 'display_data';\n",
              "          await google.colab.output.renderOutput(dataTable, element);\n",
              "          const docLink = document.createElement('div');\n",
              "          docLink.innerHTML = docLinkHtml;\n",
              "          element.appendChild(docLink);\n",
              "        }\n",
              "      </script>\n",
              "    </div>\n",
              "  </div>\n",
              "  "
            ]
          },
          "metadata": {},
          "execution_count": 38
        }
      ]
    },
    {
      "cell_type": "code",
      "source": [
        "file_name = 'test_predictions_Twitter Hate Analysis.csv'\n",
        "df_test.to_csv(file_name,index=False)"
      ],
      "metadata": {
        "id": "FUvXlcpRnbaR"
      },
      "execution_count": null,
      "outputs": []
    },
    {
      "cell_type": "markdown",
      "source": [
        "![image_2023-05-09_235405837.png](data:image/png;base64,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)\n"
      ],
      "metadata": {
        "id": "wRVj5FBCpJX4"
      }
    }
  ]
}